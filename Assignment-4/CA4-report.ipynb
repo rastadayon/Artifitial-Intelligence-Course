{
 "cells": [
  {
   "cell_type": "markdown",
   "metadata": {},
   "source": [
    "# Project#4 of AI Course of University of Tehran\n",
    "Rasta Tadayon\n",
    "810196436 \n",
    "***"
   ]
  },
  {
   "cell_type": "markdown",
   "metadata": {},
   "source": [
    "<h1 align=\"center\"> Predicting Return of Customers to a Store Using Classification </h1>"
   ]
  },
  {
   "cell_type": "markdown",
   "metadata": {},
   "source": [
    "<h2 align=\"center\">Breif Description of the Project</h2> "
   ]
  },
  {
   "cell_type": "markdown",
   "metadata": {},
   "source": [
    "In this course project the objective is predicting if a cutomer will return to the store or not using a given dataset. The dataset consists of data about each costumer such as their customer Id, total quantity of merchandises they bought, the total price of their purchase, the country that they're from, the date in which the sale took place, the purchase count and wether or not the customer came back or not. The goal is predicting the **Is Back** feature with as high accuracy as possible, using the other features values. \n",
    "\n",
    "Scikit-learn is a free software machine learning library for the Python and it is used in this project for the classifications. Further more **K Nearest Neighbour**, **Decision Tree**, **Logistic Regression** classifiers are used as well as some **ensemble** classifiers such as **Bagging**, **Voting** and **Random Forest** which each will be explaned in the following sections.\n",
    "\n",
    "The project was done in three phases which will be thoroughly explained in this report. "
   ]
  },
  {
   "cell_type": "markdown",
   "metadata": {},
   "source": [
    "<h2 align=\"center\">Project Steps</h2> \n",
    "\n",
    "The project as stated before has 3 phases:\n",
    "- **Phase 0**: In this phase the dataset is being normalized, meaning the dataset is prepared in a way that later on can be given to a classifier as an input. Since the dataset consists of a few **categorical** features, these features have to somehow be represented by numbers so that the sklearn classifiers will be able to understand them. Two of the ways this task can be done are represented in this article. The data is scaled because it can improve the performance of certain classifiers. Finally the data is divided into two sections: Train data and Test data, which the classifiers are trained using the train data and are tested using the test data.\n",
    "\n",
    "\n",
    "- **Phase 1**: In this phase the classifiers are trained and their performances are measured using accuracy, precision and recall metrics. The classifiers as stated before consist of **K Nearest Neighbours**, **Decision Tree** and **Logistic Regression**. Each of these classifiers are explained later.\n",
    "\n",
    "\n",
    "- **Phase 2**: In this phase **Ensemble Methods** are implemented. These methods use multiple learning algorithms to obtain better predictive performance than could be obtained from any of the constituent learning algorithms alone. The ensemble methods used in this project consist of **Bagging**, **Hard Voting** and **Random Forest** which will be explained later in the article along with analysis on their performance."
   ]
  },
  {
   "cell_type": "markdown",
   "metadata": {},
   "source": [
    "<h2 align=\"center\">Phase 0</h2> "
   ]
  },
  {
   "cell_type": "code",
   "execution_count": 1,
   "metadata": {},
   "outputs": [],
   "source": [
    "import numpy as np\n",
    "import pandas as pd\n",
    "import datetime\n",
    "import collections\n",
    "import sklearn\n",
    "from sklearn.preprocessing import StandardScaler\n",
    "from sklearn.model_selection import train_test_split\n",
    "from sklearn.feature_selection import mutual_info_classif\n",
    "from sklearn.preprocessing import LabelEncoder\n",
    "from sklearn.neighbors import KNeighborsClassifier\n",
    "from sklearn import metrics\n",
    "from sklearn.tree import DecisionTreeClassifier\n",
    "from sklearn.linear_model import LogisticRegression\n",
    "from sklearn.model_selection import validation_curve\n",
    "import matplotlib.pyplot as plt\n",
    "from sklearn.ensemble import BaggingClassifier\n",
    "from sklearn.ensemble import RandomForestClassifier\n",
    "from sklearn.ensemble import VotingClassifier"
   ]
  },
  {
   "cell_type": "code",
   "execution_count": 2,
   "metadata": {},
   "outputs": [],
   "source": [
    "raw_data = pd.read_csv('data.csv')"
   ]
  },
  {
   "cell_type": "markdown",
   "metadata": {},
   "source": [
    "The given dataset looks like this:"
   ]
  },
  {
   "cell_type": "code",
   "execution_count": 146,
   "metadata": {},
   "outputs": [
    {
     "data": {
      "text/html": [
       "<div>\n",
       "<style scoped>\n",
       "    .dataframe tbody tr th:only-of-type {\n",
       "        vertical-align: middle;\n",
       "    }\n",
       "\n",
       "    .dataframe tbody tr th {\n",
       "        vertical-align: top;\n",
       "    }\n",
       "\n",
       "    .dataframe thead th {\n",
       "        text-align: right;\n",
       "    }\n",
       "</style>\n",
       "<table border=\"1\" class=\"dataframe\">\n",
       "  <thead>\n",
       "    <tr style=\"text-align: right;\">\n",
       "      <th></th>\n",
       "      <th>Unnamed: 0</th>\n",
       "      <th>Customer ID</th>\n",
       "      <th>Total Quantity</th>\n",
       "      <th>Total Price</th>\n",
       "      <th>Country</th>\n",
       "      <th>Date</th>\n",
       "      <th>Is Back</th>\n",
       "      <th>Purchase Count</th>\n",
       "      <th>year</th>\n",
       "      <th>month</th>\n",
       "      <th>day</th>\n",
       "      <th>week day</th>\n",
       "      <th>is weekend</th>\n",
       "    </tr>\n",
       "  </thead>\n",
       "  <tbody>\n",
       "    <tr>\n",
       "      <th>0</th>\n",
       "      <td>0</td>\n",
       "      <td>16995</td>\n",
       "      <td>-1</td>\n",
       "      <td>-1.25</td>\n",
       "      <td>United Kingdom</td>\n",
       "      <td>2010-12-02</td>\n",
       "      <td>No</td>\n",
       "      <td>1</td>\n",
       "      <td>2010</td>\n",
       "      <td>12</td>\n",
       "      <td>2</td>\n",
       "      <td>3</td>\n",
       "      <td>0</td>\n",
       "    </tr>\n",
       "    <tr>\n",
       "      <th>1</th>\n",
       "      <td>1</td>\n",
       "      <td>12552</td>\n",
       "      <td>85</td>\n",
       "      <td>13.52</td>\n",
       "      <td>Italy</td>\n",
       "      <td>2011-10-31</td>\n",
       "      <td>Yes</td>\n",
       "      <td>19</td>\n",
       "      <td>2011</td>\n",
       "      <td>10</td>\n",
       "      <td>31</td>\n",
       "      <td>0</td>\n",
       "      <td>0</td>\n",
       "    </tr>\n",
       "    <tr>\n",
       "      <th>2</th>\n",
       "      <td>2</td>\n",
       "      <td>13192</td>\n",
       "      <td>298</td>\n",
       "      <td>15.90</td>\n",
       "      <td>United Kingdom</td>\n",
       "      <td>2011-05-18</td>\n",
       "      <td>Yes</td>\n",
       "      <td>33</td>\n",
       "      <td>2011</td>\n",
       "      <td>5</td>\n",
       "      <td>18</td>\n",
       "      <td>2</td>\n",
       "      <td>0</td>\n",
       "    </tr>\n",
       "    <tr>\n",
       "      <th>3</th>\n",
       "      <td>3</td>\n",
       "      <td>16934</td>\n",
       "      <td>399</td>\n",
       "      <td>8.30</td>\n",
       "      <td>United Kingdom</td>\n",
       "      <td>2011-10-16</td>\n",
       "      <td>No</td>\n",
       "      <td>62</td>\n",
       "      <td>2011</td>\n",
       "      <td>10</td>\n",
       "      <td>16</td>\n",
       "      <td>6</td>\n",
       "      <td>1</td>\n",
       "    </tr>\n",
       "    <tr>\n",
       "      <th>4</th>\n",
       "      <td>4</td>\n",
       "      <td>14976</td>\n",
       "      <td>27</td>\n",
       "      <td>11.90</td>\n",
       "      <td>United Kingdom</td>\n",
       "      <td>2011-01-17</td>\n",
       "      <td>Yes</td>\n",
       "      <td>16</td>\n",
       "      <td>2011</td>\n",
       "      <td>1</td>\n",
       "      <td>17</td>\n",
       "      <td>0</td>\n",
       "      <td>0</td>\n",
       "    </tr>\n",
       "  </tbody>\n",
       "</table>\n",
       "</div>"
      ],
      "text/plain": [
       "   Unnamed: 0  Customer ID  Total Quantity  Total Price         Country  \\\n",
       "0           0        16995              -1        -1.25  United Kingdom   \n",
       "1           1        12552              85        13.52           Italy   \n",
       "2           2        13192             298        15.90  United Kingdom   \n",
       "3           3        16934             399         8.30  United Kingdom   \n",
       "4           4        14976              27        11.90  United Kingdom   \n",
       "\n",
       "        Date Is Back  Purchase Count  year  month  day  week day  is weekend  \n",
       "0 2010-12-02      No               1  2010     12    2         3           0  \n",
       "1 2011-10-31     Yes              19  2011     10   31         0           0  \n",
       "2 2011-05-18     Yes              33  2011      5   18         2           0  \n",
       "3 2011-10-16      No              62  2011     10   16         6           1  \n",
       "4 2011-01-17     Yes              16  2011      1   17         0           0  "
      ]
     },
     "execution_count": 146,
     "metadata": {},
     "output_type": "execute_result"
    }
   ],
   "source": [
    "raw_data.head()"
   ]
  },
  {
   "cell_type": "markdown",
   "metadata": {},
   "source": [
    "<h3 align = \"center\"> Preprocess of the Data </h3>"
   ]
  },
  {
   "cell_type": "markdown",
   "metadata": {},
   "source": [
    "After reading the dataset the preprocessing steps begin which consist of:\n",
    "1. Extracting data from the **Date** feature\n",
    "2. Feature Scaling\n",
    "3. Encoding the categorical features (such as **Country**)\n",
    "4. Calculating the Information Gains\n",
    "5. Dividing the normalized dataset into test and train datasets"
   ]
  },
  {
   "cell_type": "markdown",
   "metadata": {},
   "source": [
    "### Extracting data from **Date** feature"
   ]
  },
  {
   "cell_type": "markdown",
   "metadata": {},
   "source": [
    "The date feature can be used to get some additional inforamtion from such as the year, month, and day of the month as well as day of the week and wether that day was a weekend or not. These extracted new features can help the classification because there are days or months in which sales happen more frequently and other assumptions like this. \n",
    "\n",
    "For extracting these new features Python library *date_time* is used which has predefined functions that make the task easier. In this project new added features were the year, month and day of the sale as well as the week day and wether or not that day was a weekend. This feature extraction however well it works, might not be the absolute best way of using the Date but it still does the job pretty well. "
   ]
  },
  {
   "cell_type": "code",
   "execution_count": 147,
   "metadata": {},
   "outputs": [],
   "source": [
    "data = raw_data\n",
    "data['Date'] = pd.to_datetime(data['Date'])\n",
    "data['year'] = data['Date'].dt.year\n",
    "data['month'] = data['Date'].dt.month\n",
    "data['day'] = data['Date'].dt.day\n",
    "data['week day'] = data['Date'].dt.dayofweek\n",
    "data['is weekend'] = np.where(data['Date'].dt.weekday_name.isin(['Sunday','Saturday']),1,0)"
   ]
  },
  {
   "cell_type": "markdown",
   "metadata": {},
   "source": [
    "After the data is extracted from the **Date** feature the dataset looks like this:"
   ]
  },
  {
   "cell_type": "code",
   "execution_count": 148,
   "metadata": {},
   "outputs": [
    {
     "data": {
      "text/html": [
       "<div>\n",
       "<style scoped>\n",
       "    .dataframe tbody tr th:only-of-type {\n",
       "        vertical-align: middle;\n",
       "    }\n",
       "\n",
       "    .dataframe tbody tr th {\n",
       "        vertical-align: top;\n",
       "    }\n",
       "\n",
       "    .dataframe thead th {\n",
       "        text-align: right;\n",
       "    }\n",
       "</style>\n",
       "<table border=\"1\" class=\"dataframe\">\n",
       "  <thead>\n",
       "    <tr style=\"text-align: right;\">\n",
       "      <th></th>\n",
       "      <th>Customer ID</th>\n",
       "      <th>Total Quantity</th>\n",
       "      <th>Total Price</th>\n",
       "      <th>Country</th>\n",
       "      <th>Is Back</th>\n",
       "      <th>Purchase Count</th>\n",
       "      <th>year</th>\n",
       "      <th>month</th>\n",
       "      <th>day</th>\n",
       "      <th>week day</th>\n",
       "      <th>is weekend</th>\n",
       "    </tr>\n",
       "  </thead>\n",
       "  <tbody>\n",
       "    <tr>\n",
       "      <th>0</th>\n",
       "      <td>16995</td>\n",
       "      <td>-1</td>\n",
       "      <td>-1.25</td>\n",
       "      <td>United Kingdom</td>\n",
       "      <td>No</td>\n",
       "      <td>1</td>\n",
       "      <td>2010</td>\n",
       "      <td>12</td>\n",
       "      <td>2</td>\n",
       "      <td>3</td>\n",
       "      <td>0</td>\n",
       "    </tr>\n",
       "    <tr>\n",
       "      <th>1</th>\n",
       "      <td>12552</td>\n",
       "      <td>85</td>\n",
       "      <td>13.52</td>\n",
       "      <td>Italy</td>\n",
       "      <td>Yes</td>\n",
       "      <td>19</td>\n",
       "      <td>2011</td>\n",
       "      <td>10</td>\n",
       "      <td>31</td>\n",
       "      <td>0</td>\n",
       "      <td>0</td>\n",
       "    </tr>\n",
       "    <tr>\n",
       "      <th>2</th>\n",
       "      <td>13192</td>\n",
       "      <td>298</td>\n",
       "      <td>15.90</td>\n",
       "      <td>United Kingdom</td>\n",
       "      <td>Yes</td>\n",
       "      <td>33</td>\n",
       "      <td>2011</td>\n",
       "      <td>5</td>\n",
       "      <td>18</td>\n",
       "      <td>2</td>\n",
       "      <td>0</td>\n",
       "    </tr>\n",
       "    <tr>\n",
       "      <th>3</th>\n",
       "      <td>16934</td>\n",
       "      <td>399</td>\n",
       "      <td>8.30</td>\n",
       "      <td>United Kingdom</td>\n",
       "      <td>No</td>\n",
       "      <td>62</td>\n",
       "      <td>2011</td>\n",
       "      <td>10</td>\n",
       "      <td>16</td>\n",
       "      <td>6</td>\n",
       "      <td>1</td>\n",
       "    </tr>\n",
       "    <tr>\n",
       "      <th>4</th>\n",
       "      <td>14976</td>\n",
       "      <td>27</td>\n",
       "      <td>11.90</td>\n",
       "      <td>United Kingdom</td>\n",
       "      <td>Yes</td>\n",
       "      <td>16</td>\n",
       "      <td>2011</td>\n",
       "      <td>1</td>\n",
       "      <td>17</td>\n",
       "      <td>0</td>\n",
       "      <td>0</td>\n",
       "    </tr>\n",
       "  </tbody>\n",
       "</table>\n",
       "</div>"
      ],
      "text/plain": [
       "   Customer ID  Total Quantity  Total Price         Country Is Back  \\\n",
       "0        16995              -1        -1.25  United Kingdom      No   \n",
       "1        12552              85        13.52           Italy     Yes   \n",
       "2        13192             298        15.90  United Kingdom     Yes   \n",
       "3        16934             399         8.30  United Kingdom      No   \n",
       "4        14976              27        11.90  United Kingdom     Yes   \n",
       "\n",
       "   Purchase Count  year  month  day  week day  is weekend  \n",
       "0               1  2010     12    2         3           0  \n",
       "1              19  2011     10   31         0           0  \n",
       "2              33  2011      5   18         2           0  \n",
       "3              62  2011     10   16         6           1  \n",
       "4              16  2011      1   17         0           0  "
      ]
     },
     "execution_count": 148,
     "metadata": {},
     "output_type": "execute_result"
    }
   ],
   "source": [
    "data = data.drop(columns =['Date', 'Unnamed: 0'])\n",
    "data.head()"
   ]
  },
  {
   "cell_type": "markdown",
   "metadata": {},
   "source": [
    "***"
   ]
  },
  {
   "cell_type": "markdown",
   "metadata": {},
   "source": [
    "### Feature Scaling"
   ]
  },
  {
   "cell_type": "markdown",
   "metadata": {},
   "source": [
    "Feature scaling is a method used to normalize the range of independent variables or features of data.\n",
    "#### Why scale?\n",
    "In this dataset we have features which their values vary widely. In some machine learning algorithms,objective functions will not work properly without normalization. For example, many classifiers calculate the distance between two points by the Euclidean distance. If one of the features has a broad range of values, this particular feature will have a significant influence on the distance value. So the range of all features should be normalized so that each feature contributes approximately proportionately to the final distance.\n",
    "\n",
    "Also another reason is applied is that some machine learning algorithms converge way faster when normalized than when it's not normalized.\n",
    "\n"
   ]
  },
  {
   "cell_type": "markdown",
   "metadata": {},
   "source": [
    "In this project the features that vary the most in value which were **Total Quantity**, **Total Price**, **Purchase Count** are normalized. The normalization method is this which is implemented using StandardScaling from sklearn.preprocessing library:\n",
    "\n",
    "\\begin{align}\n",
    "x' = \\frac{x-\\bar{x}}{\\sigma}\n",
    "\\end{align}"
   ]
  },
  {
   "cell_type": "code",
   "execution_count": 149,
   "metadata": {},
   "outputs": [],
   "source": [
    "# total quantity va total price va purchase count ro scale mikonam\n",
    "col_names = ['Total Quantity', 'Total Price', 'Purchase Count']\n",
    "scaled_data = data.copy()\n",
    "features = scaled_data[col_names]\n",
    "scaler = StandardScaler().fit(features.values)\n",
    "features = scaler.transform(features.values)\n",
    "scaled_data[col_names] = features"
   ]
  },
  {
   "cell_type": "code",
   "execution_count": 150,
   "metadata": {},
   "outputs": [
    {
     "data": {
      "text/html": [
       "<div>\n",
       "<style scoped>\n",
       "    .dataframe tbody tr th:only-of-type {\n",
       "        vertical-align: middle;\n",
       "    }\n",
       "\n",
       "    .dataframe tbody tr th {\n",
       "        vertical-align: top;\n",
       "    }\n",
       "\n",
       "    .dataframe thead th {\n",
       "        text-align: right;\n",
       "    }\n",
       "</style>\n",
       "<table border=\"1\" class=\"dataframe\">\n",
       "  <thead>\n",
       "    <tr style=\"text-align: right;\">\n",
       "      <th></th>\n",
       "      <th>Customer ID</th>\n",
       "      <th>Total Quantity</th>\n",
       "      <th>Total Price</th>\n",
       "      <th>Country</th>\n",
       "      <th>Is Back</th>\n",
       "      <th>Purchase Count</th>\n",
       "      <th>year</th>\n",
       "      <th>month</th>\n",
       "      <th>day</th>\n",
       "      <th>week day</th>\n",
       "      <th>is weekend</th>\n",
       "    </tr>\n",
       "  </thead>\n",
       "  <tbody>\n",
       "    <tr>\n",
       "      <th>0</th>\n",
       "      <td>16995</td>\n",
       "      <td>-0.524359</td>\n",
       "      <td>-0.044660</td>\n",
       "      <td>United Kingdom</td>\n",
       "      <td>No</td>\n",
       "      <td>-0.973192</td>\n",
       "      <td>2010</td>\n",
       "      <td>12</td>\n",
       "      <td>2</td>\n",
       "      <td>3</td>\n",
       "      <td>0</td>\n",
       "    </tr>\n",
       "    <tr>\n",
       "      <th>1</th>\n",
       "      <td>12552</td>\n",
       "      <td>-0.338777</td>\n",
       "      <td>-0.032135</td>\n",
       "      <td>Italy</td>\n",
       "      <td>Yes</td>\n",
       "      <td>-0.202732</td>\n",
       "      <td>2011</td>\n",
       "      <td>10</td>\n",
       "      <td>31</td>\n",
       "      <td>0</td>\n",
       "      <td>0</td>\n",
       "    </tr>\n",
       "    <tr>\n",
       "      <th>2</th>\n",
       "      <td>13192</td>\n",
       "      <td>0.120864</td>\n",
       "      <td>-0.030117</td>\n",
       "      <td>United Kingdom</td>\n",
       "      <td>Yes</td>\n",
       "      <td>0.396514</td>\n",
       "      <td>2011</td>\n",
       "      <td>5</td>\n",
       "      <td>18</td>\n",
       "      <td>2</td>\n",
       "      <td>0</td>\n",
       "    </tr>\n",
       "    <tr>\n",
       "      <th>3</th>\n",
       "      <td>16934</td>\n",
       "      <td>0.338815</td>\n",
       "      <td>-0.036562</td>\n",
       "      <td>United Kingdom</td>\n",
       "      <td>No</td>\n",
       "      <td>1.637809</td>\n",
       "      <td>2011</td>\n",
       "      <td>10</td>\n",
       "      <td>16</td>\n",
       "      <td>6</td>\n",
       "      <td>1</td>\n",
       "    </tr>\n",
       "    <tr>\n",
       "      <th>4</th>\n",
       "      <td>14976</td>\n",
       "      <td>-0.463937</td>\n",
       "      <td>-0.033509</td>\n",
       "      <td>United Kingdom</td>\n",
       "      <td>Yes</td>\n",
       "      <td>-0.331142</td>\n",
       "      <td>2011</td>\n",
       "      <td>1</td>\n",
       "      <td>17</td>\n",
       "      <td>0</td>\n",
       "      <td>0</td>\n",
       "    </tr>\n",
       "  </tbody>\n",
       "</table>\n",
       "</div>"
      ],
      "text/plain": [
       "   Customer ID  Total Quantity  Total Price         Country Is Back  \\\n",
       "0        16995       -0.524359    -0.044660  United Kingdom      No   \n",
       "1        12552       -0.338777    -0.032135           Italy     Yes   \n",
       "2        13192        0.120864    -0.030117  United Kingdom     Yes   \n",
       "3        16934        0.338815    -0.036562  United Kingdom      No   \n",
       "4        14976       -0.463937    -0.033509  United Kingdom     Yes   \n",
       "\n",
       "   Purchase Count  year  month  day  week day  is weekend  \n",
       "0       -0.973192  2010     12    2         3           0  \n",
       "1       -0.202732  2011     10   31         0           0  \n",
       "2        0.396514  2011      5   18         2           0  \n",
       "3        1.637809  2011     10   16         6           1  \n",
       "4       -0.331142  2011      1   17         0           0  "
      ]
     },
     "execution_count": 150,
     "metadata": {},
     "output_type": "execute_result"
    }
   ],
   "source": [
    "scaled_data.head()"
   ]
  },
  {
   "cell_type": "markdown",
   "metadata": {},
   "source": [
    "### Encoding categorical features"
   ]
  },
  {
   "cell_type": "markdown",
   "metadata": {},
   "source": [
    "Since computers can not understand categorical features they have to be encoded in a way that it is both suitable for our classifier and represents the data well. In this dataset the **Country** and **Is Back** features are the categorical features. Since the Is Back feature just includes 'Yes' and 'No' values these values can be transformed to 1 and 0 values with the code bellow. However the Country feature is a bit different."
   ]
  },
  {
   "cell_type": "markdown",
   "metadata": {},
   "source": [
    "#### Is Back Feature Labled"
   ]
  },
  {
   "cell_type": "code",
   "execution_count": 151,
   "metadata": {},
   "outputs": [],
   "source": [
    "data['Is Back'] = data['Is Back'].apply(lambda x: 0 if x=='No' else 1)"
   ]
  },
  {
   "cell_type": "code",
   "execution_count": 152,
   "metadata": {},
   "outputs": [
    {
     "data": {
      "text/html": [
       "<div>\n",
       "<style scoped>\n",
       "    .dataframe tbody tr th:only-of-type {\n",
       "        vertical-align: middle;\n",
       "    }\n",
       "\n",
       "    .dataframe tbody tr th {\n",
       "        vertical-align: top;\n",
       "    }\n",
       "\n",
       "    .dataframe thead th {\n",
       "        text-align: right;\n",
       "    }\n",
       "</style>\n",
       "<table border=\"1\" class=\"dataframe\">\n",
       "  <thead>\n",
       "    <tr style=\"text-align: right;\">\n",
       "      <th></th>\n",
       "      <th>Customer ID</th>\n",
       "      <th>Total Quantity</th>\n",
       "      <th>Total Price</th>\n",
       "      <th>Country</th>\n",
       "      <th>Is Back</th>\n",
       "      <th>Purchase Count</th>\n",
       "      <th>year</th>\n",
       "      <th>month</th>\n",
       "      <th>day</th>\n",
       "      <th>week day</th>\n",
       "      <th>is weekend</th>\n",
       "    </tr>\n",
       "  </thead>\n",
       "  <tbody>\n",
       "    <tr>\n",
       "      <th>0</th>\n",
       "      <td>16995</td>\n",
       "      <td>-1</td>\n",
       "      <td>-1.25</td>\n",
       "      <td>United Kingdom</td>\n",
       "      <td>0</td>\n",
       "      <td>1</td>\n",
       "      <td>2010</td>\n",
       "      <td>12</td>\n",
       "      <td>2</td>\n",
       "      <td>3</td>\n",
       "      <td>0</td>\n",
       "    </tr>\n",
       "    <tr>\n",
       "      <th>1</th>\n",
       "      <td>12552</td>\n",
       "      <td>85</td>\n",
       "      <td>13.52</td>\n",
       "      <td>Italy</td>\n",
       "      <td>1</td>\n",
       "      <td>19</td>\n",
       "      <td>2011</td>\n",
       "      <td>10</td>\n",
       "      <td>31</td>\n",
       "      <td>0</td>\n",
       "      <td>0</td>\n",
       "    </tr>\n",
       "    <tr>\n",
       "      <th>2</th>\n",
       "      <td>13192</td>\n",
       "      <td>298</td>\n",
       "      <td>15.90</td>\n",
       "      <td>United Kingdom</td>\n",
       "      <td>1</td>\n",
       "      <td>33</td>\n",
       "      <td>2011</td>\n",
       "      <td>5</td>\n",
       "      <td>18</td>\n",
       "      <td>2</td>\n",
       "      <td>0</td>\n",
       "    </tr>\n",
       "    <tr>\n",
       "      <th>3</th>\n",
       "      <td>16934</td>\n",
       "      <td>399</td>\n",
       "      <td>8.30</td>\n",
       "      <td>United Kingdom</td>\n",
       "      <td>0</td>\n",
       "      <td>62</td>\n",
       "      <td>2011</td>\n",
       "      <td>10</td>\n",
       "      <td>16</td>\n",
       "      <td>6</td>\n",
       "      <td>1</td>\n",
       "    </tr>\n",
       "    <tr>\n",
       "      <th>4</th>\n",
       "      <td>14976</td>\n",
       "      <td>27</td>\n",
       "      <td>11.90</td>\n",
       "      <td>United Kingdom</td>\n",
       "      <td>1</td>\n",
       "      <td>16</td>\n",
       "      <td>2011</td>\n",
       "      <td>1</td>\n",
       "      <td>17</td>\n",
       "      <td>0</td>\n",
       "      <td>0</td>\n",
       "    </tr>\n",
       "  </tbody>\n",
       "</table>\n",
       "</div>"
      ],
      "text/plain": [
       "   Customer ID  Total Quantity  Total Price         Country  Is Back  \\\n",
       "0        16995              -1        -1.25  United Kingdom        0   \n",
       "1        12552              85        13.52           Italy        1   \n",
       "2        13192             298        15.90  United Kingdom        1   \n",
       "3        16934             399         8.30  United Kingdom        0   \n",
       "4        14976              27        11.90  United Kingdom        1   \n",
       "\n",
       "   Purchase Count  year  month  day  week day  is weekend  \n",
       "0               1  2010     12    2         3           0  \n",
       "1              19  2011     10   31         0           0  \n",
       "2              33  2011      5   18         2           0  \n",
       "3              62  2011     10   16         6           1  \n",
       "4              16  2011      1   17         0           0  "
      ]
     },
     "execution_count": 152,
     "metadata": {},
     "output_type": "execute_result"
    }
   ],
   "source": [
    "data.head()"
   ]
  },
  {
   "cell_type": "markdown",
   "metadata": {},
   "source": [
    "***"
   ]
  },
  {
   "cell_type": "markdown",
   "metadata": {},
   "source": [
    "As mentioned before in this article two encoding methods are discussed:\n",
    "1. Label Encoding\n",
    "2. One-hot Encoding\n",
    "\n",
    "#### Label Encoding\n",
    "Label encoding is simply converting each value of the feature to a number. For label encoding in this project the LabelEncoder from sklearn.preprocessing library is used which assigns a value for each country.\n",
    "\n",
    "\n",
    "The problem that might happen in Label encoding is since there are different numbers in the same column, the classifier might misunderstand the data to be in some kind of order for example 0 < 1 < 2, but this does not mean the corresponding countries have an ordered relation with each other. This can result in bad predictions in linear models such as linear regression.\n",
    "\n",
    "The following is the label encoding for both the scaled and non scaled datasets:"
   ]
  },
  {
   "cell_type": "code",
   "execution_count": 153,
   "metadata": {},
   "outputs": [],
   "source": [
    "le = LabelEncoder()\n",
    "le.fit(data['Country'])\n",
    "data_labeled = data.copy()\n",
    "data_labeled['Country'] = le.transform(data['Country'])"
   ]
  },
  {
   "cell_type": "code",
   "execution_count": 154,
   "metadata": {},
   "outputs": [],
   "source": [
    "le = LabelEncoder()\n",
    "le.fit(scaled_data['Country'])\n",
    "data_labeled_scaled = scaled_data.copy()\n",
    "data_labeled_scaled['Country'] = le.transform(scaled_data['Country'])"
   ]
  },
  {
   "cell_type": "markdown",
   "metadata": {},
   "source": [
    "After labeling is done the *Country* feature is scaled as well."
   ]
  },
  {
   "cell_type": "code",
   "execution_count": 199,
   "metadata": {},
   "outputs": [],
   "source": [
    "col_names = ['Country']\n",
    "data_labeled_scaled = data_labeled_scaled.copy()\n",
    "features = data_labeled_scaled[col_names]\n",
    "scaler = StandardScaler().fit(features.values)\n",
    "features = scaler.transform(features.values)\n",
    "data_labeled_scaled[col_names] = features"
   ]
  },
  {
   "cell_type": "markdown",
   "metadata": {},
   "source": [
    "#### One-hot Encoding\n",
    "\n",
    "In this coding tecnique the categorical feature is broken down to n new features which n is the number of different values of this feature. Each row will have just 1 value among all of these new columns which represent the country of that data member.\n",
    "\n",
    "One-hot encoding does not have the disadvantage of being ordinal however when the feature has many different values the dataset becomes very big very quick and it may become prone to overfitting.\n",
    "\n",
    "The pandas *get_dummies* function was used for one-hot encoding which is in the following:"
   ]
  },
  {
   "cell_type": "code",
   "execution_count": 200,
   "metadata": {},
   "outputs": [],
   "source": [
    "data_one_hot_scaled = pd.concat([scaled_data,pd.get_dummies(scaled_data['Country'], prefix='country')],axis=1).drop(['Country'],axis=1)\n",
    "data_one_hot = pd.concat([data,pd.get_dummies(data['Country'], prefix='country')],axis=1).drop(['Country'],axis=1)"
   ]
  },
  {
   "cell_type": "markdown",
   "metadata": {},
   "source": [
    "***"
   ]
  },
  {
   "cell_type": "markdown",
   "metadata": {},
   "source": [
    "### Calculating information gain"
   ]
  },
  {
   "cell_type": "markdown",
   "metadata": {},
   "source": [
    "Mutual information is a quantity that measures how much one random variables tells about another. Mutual information can be thought of as the reduction in uncertainty about one random variable given knowledge of another. High mutual information indicates a large reduction in uncertainty; low mutual information indicates a small reduction; and zero mutual information between two random variables means the variables are independent.\n",
    "\n",
    "For calculating the information gain of features in this project the *mutual_info_classif* function from sklearn.feature_selection was used. The function returns an estimate for mutual information for a discrete target variable. To get a better informatio gain value hte 'Customer ID' column was discarded beacuse it is unique to each customer and cannot give valuable information about if another costumer will be back to the store or not.\n",
    "\n",
    "Mutual information between two random variables is a non-negative value, which measures the dependency between the variables. It is equal to zero if and only if two random variables are independent, and higher values mean higher dependency.\n",
    "\n",
    "The function relies on nonparametric methods based on entropy estimation from k-nearest neighbors distances.\n",
    "\n",
    "The code for calculating the information gain is as follows."
   ]
  },
  {
   "cell_type": "code",
   "execution_count": 201,
   "metadata": {},
   "outputs": [],
   "source": [
    "information_gains_labeled = dict(zip(data_labeled_scaled.drop(columns=['Is Back','Customer ID']).columns,\n",
    "               mutual_info_classif(data_labeled_scaled.drop(columns=['Is Back','Customer ID']),\n",
    "                                   data_labeled_scaled['Is Back'])\n",
    "               ))\n",
    "information_gains_one_hot = dict(zip(data_one_hot_scaled.drop(columns=['Is Back','Customer ID']).columns,\n",
    "               mutual_info_classif(data_one_hot_scaled.drop(columns=['Is Back','Customer ID']),\n",
    "                                   data_one_hot_scaled['Is Back'])\n",
    "               ))"
   ]
  },
  {
   "cell_type": "code",
   "execution_count": 202,
   "metadata": {},
   "outputs": [
    {
     "data": {
      "image/png": "[encoded data removed]",
      "text/plain": [
       "<Figure size 560x400 with 1 Axes>"
      ]
     },
     "metadata": {},
     "output_type": "display_data"
    }
   ],
   "source": [
    "lists_labeled = sorted(information_gains_labeled.items())\n",
    "x_labeled, y_labeled = zip(*lists_labeled)\n",
    "\n",
    "fig=plt.figure(figsize=(7,5), dpi= 80, facecolor='w', edgecolor='k')\n",
    "plt.plot(x_labeled, y_labeled)\n",
    "plt.xticks(x_labeled, information_gains_labeled.keys(), rotation='vertical')\n",
    "plt.title('label encoded information gains')\n",
    "plt.show()"
   ]
  },
  {
   "cell_type": "markdown",
   "metadata": {},
   "source": [
    "As can be observed from the plot 'day', 'is weekend' and 'country' have the biggest information gain values for the labeled model which mean these features are the most closely correlated with the 'Is Back' feature.\n"
   ]
  },
  {
   "cell_type": "code",
   "execution_count": 203,
   "metadata": {
    "scrolled": false
   },
   "outputs": [
    {
     "data": {
      "image/png": "[encoded data removed]",
      "text/plain": [
       "<Figure size 640x480 with 1 Axes>"
      ]
     },
     "metadata": {},
     "output_type": "display_data"
    }
   ],
   "source": [
    "lists_one_hot = sorted(information_gains_one_hot.items())\n",
    "x_one_hot, y_one_hot = zip(*lists_one_hot)\n",
    "\n",
    "fig=plt.figure(figsize=(8,6), dpi= 80, facecolor='w', edgecolor='k')\n",
    "plt.plot(x_one_hot, y_one_hot)\n",
    "plt.xticks(x_one_hot, information_gains_one_hot.keys(), rotation='vertical')\n",
    "plt.title('one hot encoded information gains')\n",
    "plt.show()"
   ]
  },
  {
   "cell_type": "markdown",
   "metadata": {},
   "source": [
    "The mutual information of the one-hot encoded dataset is given above. United Arab Emirates has the highest MI value and some countries have as low as 0 for their MI value. "
   ]
  },
  {
   "cell_type": "markdown",
   "metadata": {},
   "source": [
    "***"
   ]
  },
  {
   "cell_type": "markdown",
   "metadata": {},
   "source": [
    "### Dividing the normalized dataset into test and train datasets"
   ]
  },
  {
   "cell_type": "markdown",
   "metadata": {},
   "source": [
    "After the normalization phase is done the dataset is ready and the classifiers can use it.\n",
    "For the division *divide* fucntions from sklearn.model_selection is used which returns 4 dataset likes. Two are for the training data and two are for test data. And the dependent variable which here is the 'Is Back' feature."
   ]
  },
  {
   "cell_type": "code",
   "execution_count": 204,
   "metadata": {},
   "outputs": [],
   "source": [
    "def divide(dataset):\n",
    "    independent = list(dataset.columns)\n",
    "    independent.remove('Is Back')\n",
    "    x_train, x_test, y_train, y_test = train_test_split(dataset[independent], dataset['Is Back'], test_size = 0.2, random_state = 23)\n",
    "    return x_train, x_test, y_train, y_test"
   ]
  },
  {
   "cell_type": "code",
   "execution_count": 205,
   "metadata": {},
   "outputs": [],
   "source": [
    "x_train_labeled, x_test_labeled, y_train_labeled, y_test_labeled = divide(data_labeled)\n",
    "x_train_labeled_scaled, x_test_labeled_scaled, y_train_labeled_scaled, y_test_labeled_scaled = divide(data_labeled_scaled)\n",
    "x_train_one_hot, x_test_one_hot, y_train_one_hot, y_test_one_hot = divide(data_one_hot)\n",
    "x_train_one_hot_scaled, x_test_one_hot_scaled, y_train_one_hot_scaled, y_test_one_hot_scaled = divide(data_one_hot_scaled)"
   ]
  },
  {
   "cell_type": "markdown",
   "metadata": {},
   "source": [
    "***"
   ]
  },
  {
   "cell_type": "markdown",
   "metadata": {},
   "source": [
    "<h2 align=\"center\">Phase 1</h2> \n",
    "\n",
    "In this phase we try to classify the data using the following classifiers."
   ]
  },
  {
   "cell_type": "markdown",
   "metadata": {},
   "source": [
    "### K Nearest Neighbours Classifier\n",
    "***\n",
    "\n",
    "K nearest neighbors is a simple algorithm that stores all available cases and classifies new cases based on a similarity measure for example distance functions. Since the KNN classifier calculates distance scaling the data can have a great impact on how well the classifier performs. In this project for implementing this algorithm *KNeighborsClassifier* from sklearn.neighbors was used.\n",
    "\n",
    "The following is the metrics for both scaled and non-scaled, label and one-hot encoded data:"
   ]
  },
  {
   "cell_type": "markdown",
   "metadata": {},
   "source": [
    "#### Label Encoded and NOT scaled"
   ]
  },
  {
   "cell_type": "code",
   "execution_count": 206,
   "metadata": {},
   "outputs": [
    {
     "data": {
      "text/plain": [
       "KNeighborsClassifier(n_neighbors=9)"
      ]
     },
     "execution_count": 206,
     "metadata": {},
     "output_type": "execute_result"
    }
   ],
   "source": [
    "neigh = KNeighborsClassifier(n_neighbors=9)\n",
    "neigh.fit(x_train_labeled.drop(columns=['Customer ID']), y_train_labeled)"
   ]
  },
  {
   "cell_type": "code",
   "execution_count": 207,
   "metadata": {},
   "outputs": [],
   "source": [
    "knn_predition_test = neigh.predict(x_test_labeled.drop(columns=['Customer ID']))\n",
    "knn_prediction_train = neigh.predict(x_train_labeled.drop(columns=['Customer ID']))"
   ]
  },
  {
   "cell_type": "code",
   "execution_count": 208,
   "metadata": {},
   "outputs": [
    {
     "name": "stdout",
     "output_type": "stream",
     "text": [
      "train :\n",
      "               precision    recall  f1-score   support\n",
      "\n",
      "           0       0.65      0.27      0.38      1097\n",
      "           1       0.74      0.93      0.82      2395\n",
      "\n",
      "    accuracy                           0.72      3492\n",
      "   macro avg       0.69      0.60      0.60      3492\n",
      "weighted avg       0.71      0.72      0.68      3492\n",
      "\n",
      "------------------------------------------\n",
      "test :\n",
      "               precision    recall  f1-score   support\n",
      "\n",
      "           0       0.39      0.15      0.22       283\n",
      "           1       0.69      0.88      0.77       591\n",
      "\n",
      "    accuracy                           0.65       874\n",
      "   macro avg       0.54      0.52      0.50       874\n",
      "weighted avg       0.59      0.65      0.59       874\n",
      "\n"
     ]
    }
   ],
   "source": [
    "print(\"train :\\n\",metrics.classification_report(y_train_labeled, knn_prediction_train))\n",
    "print('------------------------------------------')\n",
    "print(\"test :\\n\",metrics.classification_report(y_test_labeled, knn_predition_test))"
   ]
  },
  {
   "cell_type": "markdown",
   "metadata": {},
   "source": [
    "The metrics are given above: \n",
    "Accuracy = 65%\n",
    "Precision = 59%\n",
    "Recall = 65%\n",
    "\n",
    "These metrics obviously indicate that the classifier is not doing a good job at classifying. Next we will see the impact of scaling the data:"
   ]
  },
  {
   "cell_type": "markdown",
   "metadata": {},
   "source": [
    "#### Label encoded and scaled"
   ]
  },
  {
   "cell_type": "code",
   "execution_count": 223,
   "metadata": {},
   "outputs": [],
   "source": [
    "col_names = ['Country']\n",
    "scaled_country_train = x_train_labeled_scaled.copy()\n",
    "features = scaled_country_train[col_names]\n",
    "scaler = StandardScaler().fit(features.values)\n",
    "features = scaler.transform(features.values)\n",
    "scaled_country_train[col_names] = features\n",
    "\n",
    "col_names = ['Country']\n",
    "scaled_country_test = x_test_labeled_scaled.copy()\n",
    "features = scaled_country_test[col_names]\n",
    "scaler = StandardScaler().fit(features.values)\n",
    "features = scaler.transform(features.values)\n",
    "scaled_country_test[col_names] = features\n"
   ]
  },
  {
   "cell_type": "code",
   "execution_count": 224,
   "metadata": {},
   "outputs": [
    {
     "data": {
      "text/plain": [
       "KNeighborsClassifier(n_neighbors=9)"
      ]
     },
     "execution_count": 224,
     "metadata": {},
     "output_type": "execute_result"
    }
   ],
   "source": [
    "neigh = KNeighborsClassifier(n_neighbors=9)\n",
    "neigh.fit(x_train_labeled_scaled.drop(columns=['Customer ID']), y_train_labeled_scaled)"
   ]
  },
  {
   "cell_type": "code",
   "execution_count": 225,
   "metadata": {},
   "outputs": [
    {
     "name": "stdout",
     "output_type": "stream",
     "text": [
      "train :\n",
      "               precision    recall  f1-score   support\n",
      "\n",
      "          No       0.67      0.41      0.51      1097\n",
      "         Yes       0.77      0.91      0.83      2395\n",
      "\n",
      "    accuracy                           0.75      3492\n",
      "   macro avg       0.72      0.66      0.67      3492\n",
      "weighted avg       0.74      0.75      0.73      3492\n",
      "\n",
      "------------------------------------------\n",
      "test :\n",
      "               precision    recall  f1-score   support\n",
      "\n",
      "          No       0.62      0.39      0.47       283\n",
      "         Yes       0.75      0.88      0.81       591\n",
      "\n",
      "    accuracy                           0.72       874\n",
      "   macro avg       0.68      0.64      0.64       874\n",
      "weighted avg       0.71      0.72      0.70       874\n",
      "\n"
     ]
    }
   ],
   "source": [
    "knn_predition_test = neigh.predict(x_test_labeled_scaled.drop(columns=['Customer ID']))\n",
    "knn_prediction_train = neigh.predict(x_train_labeled_scaled.drop(columns=['Customer ID']))\n",
    "\n",
    "print(\"train :\\n\",metrics.classification_report(y_train_labeled_scaled, knn_prediction_train))\n",
    "print('------------------------------------------')\n",
    "print(\"test :\\n\",metrics.classification_report(y_test_labeled_scaled, knn_predition_test))\n"
   ]
  },
  {
   "cell_type": "markdown",
   "metadata": {},
   "source": [
    "It is observable that the preformance metrics have gone higher significantly due to scaling the data.\n",
    "Accuracy = 72%\n",
    "Precision =71%\n",
    "Recall = 72%\n",
    "\n",
    "As stated before since the KNN uses distance to estimate the class of the next data member, scaling the features means that they will not be subjected to bias from the feature with a broader range. \n",
    "\n",
    "In this case I scaled the country feature to test for better performance however it did not "
   ]
  },
  {
   "cell_type": "markdown",
   "metadata": {},
   "source": [
    "#### One-hot encoded NOT scaled"
   ]
  },
  {
   "cell_type": "code",
   "execution_count": 212,
   "metadata": {},
   "outputs": [
    {
     "name": "stdout",
     "output_type": "stream",
     "text": [
      "train :\n",
      "               precision    recall  f1-score   support\n",
      "\n",
      "           0       0.65      0.28      0.39      1097\n",
      "           1       0.74      0.93      0.82      2395\n",
      "\n",
      "    accuracy                           0.73      3492\n",
      "   macro avg       0.69      0.61      0.61      3492\n",
      "weighted avg       0.71      0.73      0.69      3492\n",
      "\n",
      "------------------------------------------\n",
      "test :\n",
      "               precision    recall  f1-score   support\n",
      "\n",
      "           0       0.36      0.14      0.21       283\n",
      "           1       0.68      0.87      0.77       591\n",
      "\n",
      "    accuracy                           0.64       874\n",
      "   macro avg       0.52      0.51      0.49       874\n",
      "weighted avg       0.58      0.64      0.58       874\n",
      "\n"
     ]
    }
   ],
   "source": [
    "neigh = KNeighborsClassifier(n_neighbors=9)\n",
    "neigh.fit(x_train_one_hot.drop(columns=['Customer ID']), y_train_one_hot)\n",
    "knn_predition_test = neigh.predict(x_test_one_hot.drop(columns=['Customer ID']))\n",
    "knn_prediction_train = neigh.predict(x_train_one_hot.drop(columns=['Customer ID']))\n",
    "print(\"train :\\n\",metrics.classification_report(y_train_one_hot, knn_prediction_train))\n",
    "print('------------------------------------------')\n",
    "print(\"test :\\n\",metrics.classification_report(y_test_one_hot, knn_predition_test))\n"
   ]
  },
  {
   "cell_type": "markdown",
   "metadata": {},
   "source": [
    "The one-hot encoded but not scaled KNN has these performance metrics: \n",
    "Accuracy = 64%\n",
    "Precision = 58%\n",
    "Recall = 64%\n",
    "\n",
    "As it is observable the non-scaled one-hot encoded KNN works way worse than label encoded and scaled KNN because scaling makes a significant difference in KNN. In comparison with non-scaled label encoded KNN however they both have almost similar performance metrics but the label encoded works slightly better."
   ]
  },
  {
   "cell_type": "markdown",
   "metadata": {},
   "source": [
    "#### One-hot encoded scaled"
   ]
  },
  {
   "cell_type": "code",
   "execution_count": 213,
   "metadata": {},
   "outputs": [
    {
     "data": {
      "text/plain": [
       "KNeighborsClassifier(n_neighbors=9)"
      ]
     },
     "execution_count": 213,
     "metadata": {},
     "output_type": "execute_result"
    }
   ],
   "source": [
    "neigh = KNeighborsClassifier(n_neighbors=9)\n",
    "neigh.fit(x_train_one_hot_scaled.drop(columns=['Customer ID']), y_train_one_hot_scaled)"
   ]
  },
  {
   "cell_type": "code",
   "execution_count": 214,
   "metadata": {},
   "outputs": [
    {
     "name": "stdout",
     "output_type": "stream",
     "text": [
      "train :\n",
      "               precision    recall  f1-score   support\n",
      "\n",
      "          No       0.67      0.42      0.52      1097\n",
      "         Yes       0.77      0.91      0.84      2395\n",
      "\n",
      "    accuracy                           0.75      3492\n",
      "   macro avg       0.72      0.67      0.68      3492\n",
      "weighted avg       0.74      0.75      0.74      3492\n",
      "\n",
      "------------------------------------------\n",
      "test :\n",
      "               precision    recall  f1-score   support\n",
      "\n",
      "          No       0.61      0.39      0.48       283\n",
      "         Yes       0.75      0.88      0.81       591\n",
      "\n",
      "    accuracy                           0.72       874\n",
      "   macro avg       0.68      0.64      0.64       874\n",
      "weighted avg       0.71      0.72      0.70       874\n",
      "\n"
     ]
    }
   ],
   "source": [
    "knn_predition_test = neigh.predict(x_test_one_hot_scaled.drop(columns=['Customer ID']))\n",
    "knn_prediction_train = neigh.predict(x_train_one_hot_scaled.drop(columns=['Customer ID']))\n",
    "print(\"train :\\n\",metrics.classification_report(y_train_one_hot_scaled, knn_prediction_train))\n",
    "print('------------------------------------------')\n",
    "print(\"test :\\n\",metrics.classification_report(y_test_one_hot_scaled, knn_predition_test))\n"
   ]
  },
  {
   "cell_type": "markdown",
   "metadata": {},
   "source": [
    "The scaled one-hot endcoded KNN works better than non scaled ones but is similar to scaled label encoded. Performance metrics: \n",
    "\n",
    "Accuracy = 72%\n",
    "Precision = 71%\n",
    "Recall = 72%\n",
    "\n"
   ]
  },
  {
   "cell_type": "code",
   "execution_count": 195,
   "metadata": {},
   "outputs": [
    {
     "data": {
      "text/plain": [
       "Text(0, 0.5, 'score')"
      ]
     },
     "execution_count": 195,
     "metadata": {},
     "output_type": "execute_result"
    },
    {
     "data": {
      "image/png": "[encoded data removed]",
      "text/plain": [
       "<Figure size 640x480 with 1 Axes>"
      ]
     },
     "metadata": {},
     "output_type": "display_data"
    }
   ],
   "source": [
    "degree = np.arange(1, 21)\n",
    "train_score, val_score = validation_curve(KNeighborsClassifier(), x_train_one_hot_scaled.drop(columns=['Customer ID'])\n",
    "                                          , y_train_one_hot_scaled, param_name = 'n_neighbors', param_range = degree)\n",
    "fig=plt.figure(figsize=(8,6), dpi= 80, facecolor='w', edgecolor='k')\n",
    "plt.plot(degree, np.median(train_score, 1), color='blue', label='training score')\n",
    "plt.plot(degree, np.median(val_score, 1), color='red', label='validation score')\n",
    "plt.legend(loc='best')\n",
    "plt.xticks(np.arange(1,21))\n",
    "plt.xlabel('neighbors')\n",
    "plt.ylabel('score')"
   ]
  },
  {
   "cell_type": "markdown",
   "metadata": {},
   "source": [
    "The above plot shows the Accuracy metrics for different number of neighbors on the one-hot encoded and scaled dataset. As it is observable as the number of neighbours gets larger the test dataset accuracy get better and then it becomes stable. As for the training data set as the number of neighbours gets bigger the accuracy value decreases.\n",
    "\n",
    "The accuracy value is very good for the training set when the number of neighbours are a or 2 and at those times the value for test dataset are very poor so it's safe to say the KNN classifier overfits in the small value of neighbours.\n",
    "\n",
    "For the classifier *n_neighbour* hyperparametr value of 9 was selected as it is a peak in the above diagram."
   ]
  },
  {
   "cell_type": "markdown",
   "metadata": {},
   "source": [
    "### Decision Tree Classifier\n",
    "***\n"
   ]
  },
  {
   "cell_type": "markdown",
   "metadata": {},
   "source": [
    "Decision tree learning is a predictive model used in machine learning. It uses a decision tree (as a predictive model) to go from observations about an item (represented in the branches) to conclusions about the item's target value (represented in the leaves). You can read more about decision trees in this [link](https://en.wikipedia.org/wiki/Decision_tree_learning).\n",
    "\n",
    "Scalling in general improves models based on distance and has a slight effect or none at all on other models. In the decision tree model distance of different data models are not used for the prediction however the scaled data does not effect the prediction in a bad way so scaled data is used for this part as well.\n",
    "\n",
    "For implementation of the desicion tree the *DecisionTreeClassifier* from the sklearn.tree was used. I have set the criterion parameter to be set to entropy to split the data on the branch nodes based on entropy as it worked better than the alternative which was Gini impurity."
   ]
  },
  {
   "cell_type": "markdown",
   "metadata": {},
   "source": [
    "#### Label encoded and scaled"
   ]
  },
  {
   "cell_type": "code",
   "execution_count": 215,
   "metadata": {},
   "outputs": [
    {
     "data": {
      "text/plain": [
       "DecisionTreeClassifier(criterion='entropy', max_depth=4)"
      ]
     },
     "execution_count": 215,
     "metadata": {},
     "output_type": "execute_result"
    }
   ],
   "source": [
    "dtc = DecisionTreeClassifier(criterion='entropy', max_depth=4)\n",
    "dtc.fit(scaled_country_train.drop(columns=['Customer ID']), y_train_labeled_scaled)"
   ]
  },
  {
   "cell_type": "code",
   "execution_count": 216,
   "metadata": {},
   "outputs": [],
   "source": [
    "dtc_prediction_test = dtc.predict(scaled_country_test.drop(columns=['Customer ID']))\n",
    "dtc_prediction_train = dtc.predict(scaled_country_train.drop(columns=['Customer ID']))"
   ]
  },
  {
   "cell_type": "code",
   "execution_count": 217,
   "metadata": {},
   "outputs": [
    {
     "name": "stdout",
     "output_type": "stream",
     "text": [
      "test :\n",
      "               precision    recall  f1-score   support\n",
      "\n",
      "          No       0.73      0.39      0.50       283\n",
      "         Yes       0.76      0.93      0.84       591\n",
      "\n",
      "    accuracy                           0.76       874\n",
      "   macro avg       0.75      0.66      0.67       874\n",
      "weighted avg       0.75      0.76      0.73       874\n",
      "\n",
      "------------------------------------------\n",
      "train :\n",
      "               precision    recall  f1-score   support\n",
      "\n",
      "          No       0.68      0.36      0.47      1097\n",
      "         Yes       0.76      0.92      0.83      2395\n",
      "\n",
      "    accuracy                           0.74      3492\n",
      "   macro avg       0.72      0.64      0.65      3492\n",
      "weighted avg       0.73      0.74      0.72      3492\n",
      "\n"
     ]
    }
   ],
   "source": [
    "print(\"test :\\n\",metrics.classification_report(y_test_labeled_scaled, dtc_prediction_test))\n",
    "print('------------------------------------------')\n",
    "print(\"train :\\n\",metrics.classification_report(y_train_labeled_scaled, dtc_prediction_train))"
   ]
  },
  {
   "cell_type": "markdown",
   "metadata": {},
   "source": [
    "The performance metrics for decision tree with scaled label encoded data are like the following:\n",
    "Accuracy = 74%\n",
    "Precision = 73%\n",
    "Recall = 74%\n",
    "\n",
    "These metrics show that the decision tree classifier can work sligtly (around 3 percent) better than the KNN classifier. This might be because all of one classes members do not fall around the same values in the features but since the decision tree does not mind the distance in between the data members it can work better.(however this is just an assumption)"
   ]
  },
  {
   "cell_type": "code",
   "execution_count": 219,
   "metadata": {},
   "outputs": [
    {
     "data": {
      "text/plain": [
       "Text(0, 0.5, 'score')"
      ]
     },
     "execution_count": 219,
     "metadata": {},
     "output_type": "execute_result"
    },
    {
     "data": {
      "image/png": "[encoded data removed]",
      "text/plain": [
       "<Figure size 640x480 with 1 Axes>"
      ]
     },
     "metadata": {},
     "output_type": "display_data"
    }
   ],
   "source": [
    "degree = np.arange(1, 21)\n",
    "train_score, val_score = validation_curve(DecisionTreeClassifier(criterion='entropy'), x_train_labeled_scaled\n",
    "                                          ,y_train_labeled_scaled, param_name = 'max_depth', param_range = degree)\n",
    "\n",
    "fig=plt.figure(figsize=(8,6), dpi= 80, facecolor='w', edgecolor='k')\n",
    "plt.plot(degree, np.median(train_score, 1), color='blue', label='training score')\n",
    "plt.plot(degree, np.median(val_score, 1), color='red', label='validation score')\n",
    "plt.legend(loc='best')\n",
    "plt.ylim(0, 1)\n",
    "plt.xticks(degree)\n",
    "plt.xlabel('max depth')\n",
    "plt.ylabel('score')"
   ]
  },
  {
   "cell_type": "markdown",
   "metadata": {},
   "source": [
    "The diagram above shows the accuracy score for different max_length for the tree. As is observable as the depth of the tree increases the training data can be predicted with a higher accuracy however the accuracy on the test data begins to decrease therefore it is safe to say that after the depth of 5 the tree becomes overfit for the training data and can not predict the test data correctly."
   ]
  },
  {
   "cell_type": "markdown",
   "metadata": {},
   "source": [
    "#### One-hot encoded and scaled"
   ]
  },
  {
   "cell_type": "code",
   "execution_count": 220,
   "metadata": {},
   "outputs": [
    {
     "data": {
      "text/plain": [
       "DecisionTreeClassifier(criterion='entropy', max_depth=5)"
      ]
     },
     "execution_count": 220,
     "metadata": {},
     "output_type": "execute_result"
    }
   ],
   "source": [
    "dtc = DecisionTreeClassifier(criterion='entropy', max_depth=5)\n",
    "dtc.fit(x_train_one_hot_scaled.drop(columns=['Customer ID']), y_train_one_hot_scaled)"
   ]
  },
  {
   "cell_type": "code",
   "execution_count": 221,
   "metadata": {},
   "outputs": [
    {
     "name": "stdout",
     "output_type": "stream",
     "text": [
      "train :\n",
      "               precision    recall  f1-score   support\n",
      "\n",
      "          No       0.70      0.36      0.47      1097\n",
      "         Yes       0.76      0.93      0.84      2395\n",
      "\n",
      "    accuracy                           0.75      3492\n",
      "   macro avg       0.73      0.64      0.66      3492\n",
      "weighted avg       0.74      0.75      0.72      3492\n",
      "\n",
      "------------------------------------------\n",
      "test :\n",
      "               precision    recall  f1-score   support\n",
      "\n",
      "          No       0.74      0.37      0.49       283\n",
      "         Yes       0.76      0.94      0.84       591\n",
      "\n",
      "    accuracy                           0.75       874\n",
      "   macro avg       0.75      0.65      0.66       874\n",
      "weighted avg       0.75      0.75      0.73       874\n",
      "\n"
     ]
    }
   ],
   "source": [
    "dtc_prediction_test = dtc.predict(x_test_one_hot_scaled.drop(columns=['Customer ID']))\n",
    "dtc_prediction_train = dtc.predict(x_train_one_hot_scaled.drop(columns=['Customer ID']))\n",
    "\n",
    "print(\"train :\\n\",metrics.classification_report(y_train_one_hot_scaled, dtc_prediction_train))\n",
    "print('------------------------------------------')\n",
    "print(\"test :\\n\",metrics.classification_report(y_test_one_hot_scaled, dtc_prediction_test))\n"
   ]
  },
  {
   "cell_type": "markdown",
   "metadata": {},
   "source": [
    "The decision tree works better with one-hot encoded data as its performance metrics are around 2 percents higher:\n",
    "\n",
    "Accuracy = 75%\n",
    "Precision = 75%\n",
    "Recall = 75%"
   ]
  },
  {
   "cell_type": "code",
   "execution_count": 222,
   "metadata": {},
   "outputs": [
    {
     "data": {
      "text/plain": [
       "Text(0, 0.5, 'score')"
      ]
     },
     "execution_count": 222,
     "metadata": {},
     "output_type": "execute_result"
    },
    {
     "data": {
      "image/png": "[encoded data removed]",
      "text/plain": [
       "<Figure size 640x480 with 1 Axes>"
      ]
     },
     "metadata": {},
     "output_type": "display_data"
    }
   ],
   "source": [
    "degree = np.arange(1, 21)\n",
    "train_score, val_score = validation_curve(DecisionTreeClassifier(criterion='entropy')\n",
    "                                          , x_train_one_hot_scaled.drop(columns=['Customer ID','Purchase Count'])\n",
    "                                          , y_train_one_hot_scaled, param_name = 'max_depth', param_range = degree)\n",
    "\n",
    "fig=plt.figure(figsize=(8,6), dpi= 80, facecolor='w', edgecolor='k')\n",
    "plt.plot(degree, np.median(train_score, 1), color='blue', label='training score')\n",
    "plt.plot(degree, np.median(val_score, 1), color='red', label='validation score')\n",
    "plt.legend(loc='best')\n",
    "plt.ylim(0, 1)\n",
    "plt.xticks(degree)\n",
    "plt.xlabel('max depth')\n",
    "plt.ylabel('score')"
   ]
  },
  {
   "cell_type": "markdown",
   "metadata": {},
   "source": [
    "The diagram above shows the accuracy value for different max_depth hyperparameters for the one-hot encoded data. This diagram is the same as the previous one as they both start to over-fit after the depth of 5. The details specified for the previous diagram applies to this one as well."
   ]
  },
  {
   "cell_type": "markdown",
   "metadata": {},
   "source": [
    "### Logistic regression classifier\n",
    "***"
   ]
  },
  {
   "cell_type": "markdown",
   "metadata": {},
   "source": [
    "Logistic regression is a classification algorithm used to assign observations to a discrete set of classes. To see how this classifier works exactly view this [link](https://towardsdatascience.com/introduction-to-logistic-regression-66248243c148).\n",
    "\n",
    "For implementation of logistic regression classifier the *LogisticRegression* from the sklearn.linear_model was used. Both of the label-encoded and one-hot encoded datas are given to this classifier for the sake of comparison. "
   ]
  },
  {
   "cell_type": "markdown",
   "metadata": {},
   "source": [
    "#### Label encoded and scaled"
   ]
  },
  {
   "cell_type": "code",
   "execution_count": 226,
   "metadata": {},
   "outputs": [
    {
     "data": {
      "text/plain": [
       "LogisticRegression()"
      ]
     },
     "execution_count": 226,
     "metadata": {},
     "output_type": "execute_result"
    }
   ],
   "source": [
    "lrc = LogisticRegression()\n",
    "lrc.fit(scaled_country_train.drop(columns=['Customer ID']), y_train_labeled_scaled)"
   ]
  },
  {
   "cell_type": "code",
   "execution_count": 227,
   "metadata": {},
   "outputs": [
    {
     "name": "stdout",
     "output_type": "stream",
     "text": [
      "train :\n",
      "               precision    recall  f1-score   support\n",
      "\n",
      "          No       0.85      0.02      0.03      1097\n",
      "         Yes       0.69      1.00      0.82      2395\n",
      "\n",
      "    accuracy                           0.69      3492\n",
      "   macro avg       0.77      0.51      0.42      3492\n",
      "weighted avg       0.74      0.69      0.57      3492\n",
      "\n",
      "------------------------------------------\n",
      "test :\n",
      "               precision    recall  f1-score   support\n",
      "\n",
      "          No       0.67      0.01      0.01       283\n",
      "         Yes       0.68      1.00      0.81       591\n",
      "\n",
      "    accuracy                           0.68       874\n",
      "   macro avg       0.67      0.50      0.41       874\n",
      "weighted avg       0.67      0.68      0.55       874\n",
      "\n"
     ]
    }
   ],
   "source": [
    "lrc_prediction_test = lrc.predict(scaled_country_test.drop(columns=['Customer ID']))\n",
    "lrc_prediction_train = lrc.predict(scaled_country_train.drop(columns=['Customer ID']))\n",
    "\n",
    "print(\"train :\\n\",metrics.classification_report(y_train_labeled_scaled, lrc_prediction_train))\n",
    "print('------------------------------------------')\n",
    "print(\"test :\\n\",metrics.classification_report(y_test_labeled_scaled, lrc_prediction_test))\n"
   ]
  },
  {
   "cell_type": "code",
   "execution_count": 228,
   "metadata": {},
   "outputs": [
    {
     "data": {
      "text/plain": [
       "LogisticRegression(max_iter=500, random_state=0)"
      ]
     },
     "execution_count": 228,
     "metadata": {},
     "output_type": "execute_result"
    }
   ],
   "source": [
    "lrc = LogisticRegression(max_iter=500, random_state=0)\n",
    "lrc.fit(x_train_one_hot_scaled.drop(columns=['Customer ID']), y_train_one_hot_scaled)"
   ]
  },
  {
   "cell_type": "code",
   "execution_count": 229,
   "metadata": {},
   "outputs": [
    {
     "name": "stdout",
     "output_type": "stream",
     "text": [
      "train :\n",
      "               precision    recall  f1-score   support\n",
      "\n",
      "          No       0.81      0.02      0.03      1097\n",
      "         Yes       0.69      1.00      0.82      2395\n",
      "\n",
      "    accuracy                           0.69      3492\n",
      "   macro avg       0.75      0.51      0.42      3492\n",
      "weighted avg       0.73      0.69      0.57      3492\n",
      "\n",
      "------------------------------------------\n",
      "test :\n",
      "               precision    recall  f1-score   support\n",
      "\n",
      "          No       0.67      0.01      0.01       283\n",
      "         Yes       0.68      1.00      0.81       591\n",
      "\n",
      "    accuracy                           0.68       874\n",
      "   macro avg       0.67      0.50      0.41       874\n",
      "weighted avg       0.67      0.68      0.55       874\n",
      "\n"
     ]
    }
   ],
   "source": [
    "lrc_prediction_test = lrc.predict(x_test_one_hot_scaled.drop(columns=['Customer ID']))\n",
    "lrc_prediction_train = lrc.predict(x_train_one_hot_scaled.drop(columns=['Customer ID']))\n",
    "\n",
    "print(\"train :\\n\",metrics.classification_report(y_train_one_hot_scaled, lrc_prediction_train))\n",
    "print('------------------------------------------')\n",
    "print(\"test :\\n\",metrics.classification_report(y_test_one_hot_scaled, lrc_prediction_test))\n"
   ]
  },
  {
   "cell_type": "markdown",
   "metadata": {},
   "source": [
    "Logistic regression does not work as well as the other two classifiers as its metrics for both of the datasets are as follows:\n",
    "\n",
    "Accuracy = 68%\n",
    "Precision = 67%\n",
    "Recall = 68%"
   ]
  },
  {
   "cell_type": "markdown",
   "metadata": {},
   "source": [
    "<h2 align=\"center\">Phase 2</h2> \n",
    "\n",
    "***\n",
    "\n",
    "In this phase we try to enhance the abbility of our single classifiers using ensemble methods. The ensemble methods used are:\n",
    "1. Bagging\n",
    "2. Random Forest\n",
    "3. Hard Voting "
   ]
  },
  {
   "cell_type": "markdown",
   "metadata": {},
   "source": [
    "### Bagging\n",
    "\n",
    "According to sklearn documentation Bagging classifier is an ensemble meta-estimator that fits base classifiers each on random subsets of the original dataset and then aggregate their individual predictions (either by voting or by averaging) to form a final prediction. Such a meta-estimator can typically be used as a way to reduce the variance of a black-box estimator (e.g., a decision tree or KNN), by introducing randomization into its construction procedure and then making an ensemble out of it. If samples are drawn with replacement, then the method is known as Bagging.\n",
    "\n",
    "For implementation of the bagging classifier *BaggingClassifier* from sklearn.ensemble was used. Also both KNN classifier and decision tree were used as the base classifier and the max_features and max_samples parameters were set to 0.5.\n",
    "max_feature indicates the number or percentage of the features that will be provided to each classifier and max_samples indicates the number or percentage of the samples that will be provided to the classifiers.\n",
    "\n",
    "Since in phase 1 the number of 9 neighbors were proven to work best with our data this hyper parameter was passed to the classifiers. The implementation of bagging classifier is as follows:\n",
    "\n"
   ]
  },
  {
   "cell_type": "code",
   "execution_count": 230,
   "metadata": {},
   "outputs": [],
   "source": [
    "bagging_classifier_knn = BaggingClassifier(base_estimator=KNeighborsClassifier(n_neighbors=9),\n",
    "                         max_features = 0.5, max_samples = 0.5, n_estimators=100, random_state=0\n",
    "                                      ).fit(x_train_one_hot_scaled.drop(columns=['Customer ID'])\n",
    "                                                              , y_train_one_hot_scaled)\n",
    "bagging_knn_train = bagging_classifier_knn.predict(x_train_one_hot_scaled.drop(columns=['Customer ID']))\n",
    "bagging_knn_test = bagging_classifier_knn.predict(x_test_one_hot_scaled.drop(columns=['Customer ID']))"
   ]
  },
  {
   "cell_type": "code",
   "execution_count": 231,
   "metadata": {},
   "outputs": [
    {
     "name": "stdout",
     "output_type": "stream",
     "text": [
      "bagging knn train:\n",
      "               precision    recall  f1-score   support\n",
      "\n",
      "          No       0.85      0.20      0.33      1097\n",
      "         Yes       0.73      0.98      0.84      2395\n",
      "\n",
      "    accuracy                           0.74      3492\n",
      "   macro avg       0.79      0.59      0.58      3492\n",
      "weighted avg       0.77      0.74      0.68      3492\n",
      "\n",
      "---------------------------------------------------------\n",
      "bagging knn test:\n",
      "               precision    recall  f1-score   support\n",
      "\n",
      "          No       0.81      0.19      0.31       283\n",
      "         Yes       0.72      0.98      0.83       591\n",
      "\n",
      "    accuracy                           0.72       874\n",
      "   macro avg       0.76      0.58      0.57       874\n",
      "weighted avg       0.75      0.72      0.66       874\n",
      "\n"
     ]
    }
   ],
   "source": [
    "print(\"bagging knn train:\\n\", metrics.classification_report(y_train_one_hot_scaled, bagging_knn_train))\n",
    "print(\"---------------------------------------------------------\")\n",
    "print(\"bagging knn test:\\n\", metrics.classification_report(y_test_one_hot_scaled, bagging_knn_test))"
   ]
  },
  {
   "cell_type": "markdown",
   "metadata": {},
   "source": [
    "The performance metrics of bagging method using the KNN classifier has improved around 3 percents. "
   ]
  },
  {
   "cell_type": "code",
   "execution_count": 232,
   "metadata": {},
   "outputs": [
    {
     "name": "stdout",
     "output_type": "stream",
     "text": [
      "bagging decision tree train:\n",
      "               precision    recall  f1-score   support\n",
      "\n",
      "          No       0.83      0.19      0.31      1097\n",
      "         Yes       0.73      0.98      0.83      2395\n",
      "\n",
      "    accuracy                           0.73      3492\n",
      "   macro avg       0.78      0.59      0.57      3492\n",
      "weighted avg       0.76      0.73      0.67      3492\n",
      "\n",
      "------------------------------------------\n",
      "bagging decision tree test:\n",
      "               precision    recall  f1-score   support\n",
      "\n",
      "          No       0.87      0.19      0.31       283\n",
      "         Yes       0.72      0.99      0.83       591\n",
      "\n",
      "    accuracy                           0.73       874\n",
      "   macro avg       0.79      0.59      0.57       874\n",
      "weighted avg       0.77      0.73      0.66       874\n",
      "\n"
     ]
    }
   ],
   "source": [
    "bagging_classifier_dtc = BaggingClassifier(base_estimator=DecisionTreeClassifier(criterion=\"entropy\", max_depth= 5),\n",
    "                         max_features = 0.5, max_samples = 0.5, n_estimators=250\n",
    "                                      ).fit(x_train_one_hot_scaled.drop(columns=['Customer ID'])\n",
    "                                                              , y_train_one_hot_scaled)\n",
    "bagging_dtc_train = bagging_classifier_dtc.predict(x_train_one_hot_scaled.drop(columns=['Customer ID']))\n",
    "bagging_dtc_test = bagging_classifier_dtc.predict(x_test_one_hot_scaled.drop(columns=['Customer ID']))\n",
    "print(\"bagging decision tree train:\\n\",metrics.classification_report(y_train_one_hot_scaled, bagging_dtc_train))\n",
    "print('------------------------------------------')\n",
    "print(\"bagging decision tree test:\\n\",metrics.classification_report(y_test_one_hot_scaled, bagging_dtc_test))"
   ]
  },
  {
   "cell_type": "markdown",
   "metadata": {},
   "source": [
    "The performance metrics of bagging with the decision tree as the base classifier has improved one metric about 2 percents and worsen two other metrics around 2 percents. "
   ]
  },
  {
   "cell_type": "markdown",
   "metadata": {},
   "source": [
    "In general the reason bagging might help improve the performance metrics is because bagging equalizes influence of the classifiers. This means that the influence of the points which have a large impact on the overall model decreases compared to non-bagged models. This is good if those points are bad for the model's performance, which is not always the case."
   ]
  },
  {
   "cell_type": "markdown",
   "metadata": {},
   "source": [
    "***"
   ]
  },
  {
   "cell_type": "markdown",
   "metadata": {},
   "source": [
    "### Random Forest Classifier\n",
    "\n",
    "According to sklearn documentation random forest is a meta estimator that fits a number of decision tree classifiers on various sub-samples of the dataset and uses averaging to improve the predictive accuracy and control over-fitting. In this project for implementing the forest the *RandomForestClassifier* from sklearn.ensemble is used. This classifier accepts many parameters. The effect of some on the accuracy of the model is tested and shown bellow."
   ]
  },
  {
   "cell_type": "code",
   "execution_count": 248,
   "metadata": {},
   "outputs": [
    {
     "name": "stdout",
     "output_type": "stream",
     "text": [
      "random forest train:\n",
      "               precision    recall  f1-score   support\n",
      "\n",
      "          No       0.80      0.46      0.59      1097\n",
      "         Yes       0.79      0.95      0.86      2395\n",
      "\n",
      "    accuracy                           0.79      3492\n",
      "   macro avg       0.80      0.70      0.72      3492\n",
      "weighted avg       0.80      0.79      0.78      3492\n",
      "\n",
      "------------------------------------------\n",
      "random forest test:\n",
      "               precision    recall  f1-score   support\n",
      "\n",
      "          No       0.75      0.42      0.54       283\n",
      "         Yes       0.77      0.93      0.84       591\n",
      "\n",
      "    accuracy                           0.77       874\n",
      "   macro avg       0.76      0.68      0.69       874\n",
      "weighted avg       0.76      0.77      0.75       874\n",
      "\n"
     ]
    }
   ],
   "source": [
    "rfc = RandomForestClassifier(random_state=0, criterion=\"entropy\", max_depth=9,\n",
    "                             max_features = 0.5, max_samples = 0.5, n_estimators=250)\n",
    "rfc.fit(x_train_one_hot_scaled, y_train_one_hot_scaled)\n",
    "rfc_prediction_train = rfc.predict(x_train_one_hot_scaled)\n",
    "rfc_prediction_test = rfc.predict(x_test_one_hot_scaled)\n",
    "\n",
    "print(\"random forest train:\\n\",metrics.classification_report(y_train_one_hot_scaled, rfc_prediction_train))\n",
    "print('------------------------------------------')\n",
    "print(\"random forest test:\\n\",metrics.classification_report(y_test_one_hot_scaled, rfc_prediction_test))"
   ]
  },
  {
   "cell_type": "markdown",
   "metadata": {},
   "source": [
    "As is observable the performance metrics of the random forest overall are the best over all other classifiers that have been tested. \n",
    "\n",
    "Accuracy = 77%\n",
    "Precision = 76%\n",
    "Recall = 77%\n",
    "\n",
    "Since the random forest is a bagging ensemble method the same reason mentioned in the prevoius section can be given for its increase in performance."
   ]
  },
  {
   "cell_type": "markdown",
   "metadata": {},
   "source": [
    "### Comparing the effect of different hyperparameters on performance of random forest"
   ]
  },
  {
   "cell_type": "markdown",
   "metadata": {},
   "source": [
    "- Max depth\n",
    "- Number of estimators\n",
    "- Max number of leaf nodes"
   ]
  },
  {
   "cell_type": "code",
   "execution_count": 254,
   "metadata": {},
   "outputs": [
    {
     "data": {
      "text/plain": [
       "Text(0, 0.5, 'score')"
      ]
     },
     "execution_count": 254,
     "metadata": {},
     "output_type": "execute_result"
    },
    {
     "data": {
      "image/png": "[encoded data removed]",
      "text/plain": [
       "<Figure size 720x560 with 1 Axes>"
      ]
     },
     "metadata": {},
     "output_type": "display_data"
    }
   ],
   "source": [
    "degree = np.arange(1, 21)\n",
    "train_score, val_score = validation_curve(RandomForestClassifier(random_state=0, max_features = 0.5,\n",
    "                                                                 max_samples = 0.5, criterion=\"entropy\")\n",
    "                                          , x_train_one_hot_scaled.drop(columns=['Customer ID'])\n",
    "                                          , y_train_one_hot_scaled, param_name = 'max_depth', param_range = degree)\n",
    "\n",
    "fig=plt.figure(figsize=(9,7), dpi= 80, facecolor='w', edgecolor='k')\n",
    "plt.plot(degree, np.median(train_score, 1), color='blue', label='training score')\n",
    "plt.plot(degree, np.median(val_score, 1), color='red', label='validation score')\n",
    "plt.legend(loc='best')\n",
    "plt.ylim(0, 1)\n",
    "plt.xticks(degree)\n",
    "plt.title(\"Random forest with different Max Depth\")\n",
    "plt.xlabel('max depth')\n",
    "plt.ylabel('score')"
   ]
  },
  {
   "cell_type": "markdown",
   "metadata": {},
   "source": [
    "The diagram above shows the effect of different *max_depth* values on the accuracy of the random forest. Max depth indicates the maximum depth each decision tree classifier can reach. Just like in decision tree as is observable in the diagram after the depth of 4 or 5 accuracy of the training data stops increasing and only, accuracy of the training data increases therefore overfitting is happening after that depth."
   ]
  },
  {
   "cell_type": "code",
   "execution_count": 257,
   "metadata": {},
   "outputs": [
    {
     "data": {
      "text/plain": [
       "Text(0, 0.5, 'score')"
      ]
     },
     "execution_count": 257,
     "metadata": {},
     "output_type": "execute_result"
    },
    {
     "data": {
      "image/png": "[encoded data removed]",
      "text/plain": [
       "<Figure size 720x560 with 1 Axes>"
      ]
     },
     "metadata": {},
     "output_type": "display_data"
    }
   ],
   "source": [
    "degree = np.arange(2, 51, 5)\n",
    "train_score, val_score = validation_curve(RandomForestClassifier(random_state=0, criterion=\"entropy\"\n",
    "                                          , max_features = 0.5, max_samples = 0.5)\n",
    "                                          , x_train_one_hot_scaled.drop(columns=['Customer ID'])\n",
    "                                          , y_train_one_hot_scaled, param_name = 'n_estimators', param_range = degree)\n",
    "\n",
    "fig=plt.figure(figsize=(9,7), dpi= 80, facecolor='w', edgecolor='k')\n",
    "plt.plot(degree, np.median(train_score, 1), color='blue', label='training score')\n",
    "plt.plot(degree, np.median(val_score, 1), color='red', label='validation score')\n",
    "plt.legend(loc='best')\n",
    "plt.ylim(0, 1)\n",
    "plt.xticks(degree)\n",
    "plt.title(\"Random forest with different number of estimators\")\n",
    "plt.xlabel('number of base classifiers')\n",
    "plt.ylabel('score')"
   ]
  },
  {
   "cell_type": "markdown",
   "metadata": {},
   "source": [
    "The diagram above shows the effect of different *n_estimators* parameter values on the accuracy of the random forest. After increasing the number of the estimators over 7 the accuracy of the training set does not increase."
   ]
  },
  {
   "cell_type": "code",
   "execution_count": 256,
   "metadata": {},
   "outputs": [
    {
     "data": {
      "text/plain": [
       "Text(0, 0.5, 'score')"
      ]
     },
     "execution_count": 256,
     "metadata": {},
     "output_type": "execute_result"
    },
    {
     "data": {
      "image/png": "[encoded data removed]",
      "text/plain": [
       "<Figure size 720x560 with 1 Axes>"
      ]
     },
     "metadata": {},
     "output_type": "display_data"
    }
   ],
   "source": [
    "degree = np.arange(2, 300, 20)\n",
    "train_score, val_score = validation_curve(RandomForestClassifier(random_state=0, criterion=\"entropy\"\n",
    "                                          , max_features = 0.5, max_samples = 0.5)\n",
    "                                          , x_train_one_hot_scaled.drop(columns=['Customer ID'])\n",
    "                                          , y_train_one_hot_scaled, param_name = 'max_leaf_nodes', param_range = degree)\n",
    "\n",
    "fig=plt.figure(figsize=(9,7), dpi= 80, facecolor='w', edgecolor='k')\n",
    "plt.plot(degree, np.median(train_score, 1), color='blue', label='training score')\n",
    "plt.plot(degree, np.median(val_score, 1), color='red', label='validation score')\n",
    "plt.legend(loc='best')\n",
    "plt.ylim(0, 1)\n",
    "plt.xticks(degree)\n",
    "plt.title(\"Random forest with different number of Max Leaf Nodes\")\n",
    "plt.xlabel('max number of leaf nodes')\n",
    "plt.ylabel('score')"
   ]
  },
  {
   "cell_type": "markdown",
   "metadata": {},
   "source": [
    "The diagram above shows the effect of different *max_leaf_node* values on the accuracy of the random forest. After the number of 42 there is no increase in the accuracy value and it even slightly decreases."
   ]
  },
  {
   "cell_type": "markdown",
   "metadata": {},
   "source": [
    "*** \n",
    "\n",
    "### Studying the effect of bagging on overfitting\n",
    "\n",
    "An overfitted classifier such as a decision tree with a high max_depth for example 20 (which we know will overfit the model) is compared with bagging of that same classifier:"
   ]
  },
  {
   "cell_type": "code",
   "execution_count": 258,
   "metadata": {},
   "outputs": [
    {
     "name": "stdout",
     "output_type": "stream",
     "text": [
      "train :\n",
      "               precision    recall  f1-score   support\n",
      "\n",
      "          No       0.95      0.92      0.93      1097\n",
      "         Yes       0.96      0.98      0.97      2395\n",
      "\n",
      "    accuracy                           0.96      3492\n",
      "   macro avg       0.96      0.95      0.95      3492\n",
      "weighted avg       0.96      0.96      0.96      3492\n",
      "\n",
      "------------------------------------------\n",
      "test :\n",
      "               precision    recall  f1-score   support\n",
      "\n",
      "          No       0.48      0.52      0.50       283\n",
      "         Yes       0.76      0.73      0.75       591\n",
      "\n",
      "    accuracy                           0.66       874\n",
      "   macro avg       0.62      0.63      0.62       874\n",
      "weighted avg       0.67      0.66      0.67       874\n",
      "\n"
     ]
    }
   ],
   "source": [
    "dtc = DecisionTreeClassifier(criterion='entropy', max_depth=20)\n",
    "dtc.fit(x_train_one_hot_scaled.drop(columns=['Customer ID']), y_train_one_hot_scaled)\n",
    "dtc_prediction_test = dtc.predict(x_test_one_hot_scaled.drop(columns=['Customer ID']))\n",
    "dtc_prediction_train = dtc.predict(x_train_one_hot_scaled.drop(columns=['Customer ID']))\n",
    "\n",
    "print(\"train :\\n\",metrics.classification_report(y_train_one_hot_scaled, dtc_prediction_train))\n",
    "print('------------------------------------------')\n",
    "print(\"test :\\n\",metrics.classification_report(y_test_one_hot_scaled, dtc_prediction_test))\n"
   ]
  },
  {
   "cell_type": "code",
   "execution_count": 259,
   "metadata": {},
   "outputs": [
    {
     "name": "stdout",
     "output_type": "stream",
     "text": [
      "bagging decision tree train:\n",
      "               precision    recall  f1-score   support\n",
      "\n",
      "          No       1.00      0.77      0.87      1097\n",
      "         Yes       0.91      1.00      0.95      2395\n",
      "\n",
      "    accuracy                           0.93      3492\n",
      "   macro avg       0.95      0.89      0.91      3492\n",
      "weighted avg       0.94      0.93      0.93      3492\n",
      "\n",
      "------------------------------------------\n",
      "bagging decision tree test:\n",
      "               precision    recall  f1-score   support\n",
      "\n",
      "          No       0.75      0.26      0.39       283\n",
      "         Yes       0.73      0.96      0.83       591\n",
      "\n",
      "    accuracy                           0.73       874\n",
      "   macro avg       0.74      0.61      0.61       874\n",
      "weighted avg       0.74      0.73      0.69       874\n",
      "\n"
     ]
    }
   ],
   "source": [
    "bagging_classifier_dtc = BaggingClassifier(base_estimator=DecisionTreeClassifier(criterion=\"entropy\", max_depth= 20),\n",
    "                         max_features = 0.5, max_samples = 0.5, n_estimators=250\n",
    "                                      ).fit(x_train_one_hot_scaled.drop(columns=['Customer ID'])\n",
    "                                                              , y_train_one_hot_scaled)\n",
    "bagging_dtc_train = bagging_classifier_dtc.predict(x_train_one_hot_scaled.drop(columns=['Customer ID']))\n",
    "bagging_dtc_test = bagging_classifier_dtc.predict(x_test_one_hot_scaled.drop(columns=['Customer ID']))\n",
    "print(\"bagging decision tree train:\\n\",metrics.classification_report(y_train_one_hot_scaled, bagging_dtc_train))\n",
    "print('------------------------------------------')\n",
    "print(\"bagging decision tree test:\\n\",metrics.classification_report(y_test_one_hot_scaled, bagging_dtc_test))"
   ]
  },
  {
   "cell_type": "markdown",
   "metadata": {},
   "source": [
    "The performance metrics of the decision tree:\n",
    "- Accuracy = 66%\n",
    "- Precision = 67%\n",
    "- Recall = 66%\n",
    "\n",
    "The performance metrics of the bagged decision tree:\n",
    "- Accuracy = 73%\n",
    "- Precision = 74%\n",
    "- Recall = 73%\n",
    "\n",
    "It is quite observable that the bagged classifier works significantly better however on the training set it suffers from around 2 percent of loss in the metrics which is a fine tradeoff for much better values in the test set. The reason for that is that in bagging a lot of classifiers work with different subsets of the data to classify the data and then combines all their results in order to smooth out their predictions. This way the variance also decreases and overfitting is prevented."
   ]
  },
  {
   "cell_type": "markdown",
   "metadata": {},
   "source": [
    "***\n",
    "### What is Bootstrapping and how does it effect the variance and bias?\n",
    "\n",
    "In statistics, bootstrapping is any test or metric that relies on random sampling with replacement. In the sense of problem at hand it means using multiple classifiers of the same sort and handing them randomly sampled data with replacement and deciding the result based on the result of those classifiers. Just like what is done in randome forest.\n",
    "\n",
    "Bootstrapping normally decreases the variance. The reason for that is when there are n estimators and therefor n results the final result if thought of as the mean of those n results has variance reduced by $\\sqrt{n}$. This is just for clearifying purposes. Bootstrapping however may increase the bias. So the goal in bootstapping models is to choose a set of hyperparameters that makes the bias and variance tradeoff in a way that it minimizes the error."
   ]
  },
  {
   "cell_type": "markdown",
   "metadata": {},
   "source": [
    "***\n",
    "\n",
    "\n",
    "### Hard voting\n",
    "\n",
    "Voting is an ensemble method in which multiple classifiers are trained using diverse algorithms and then ensembled to predict the final output. In this project those calssifiers consist of phase 1 **KNN**, **Decision Tree** and **Logistic Regression**. For implementation *VotingClassifier* from sklearn.ensemble is used with the optimized classifiers of the previous phase."
   ]
  },
  {
   "cell_type": "code",
   "execution_count": 138,
   "metadata": {},
   "outputs": [
    {
     "name": "stdout",
     "output_type": "stream",
     "text": [
      "voting train:\n",
      "               precision    recall  f1-score   support\n",
      "\n",
      "           0       0.71      0.33      0.45      1097\n",
      "           1       0.75      0.94      0.84      2395\n",
      "\n",
      "    accuracy                           0.75      3492\n",
      "   macro avg       0.73      0.63      0.64      3492\n",
      "weighted avg       0.74      0.75      0.71      3492\n",
      "\n",
      "------------------------------------------\n",
      "voting test:\n",
      "               precision    recall  f1-score   support\n",
      "\n",
      "           0       0.73      0.33      0.46       283\n",
      "           1       0.75      0.94      0.83       591\n",
      "\n",
      "    accuracy                           0.74       874\n",
      "   macro avg       0.74      0.64      0.65       874\n",
      "weighted avg       0.74      0.74      0.71       874\n",
      "\n"
     ]
    }
   ],
   "source": [
    "voting_knn = KNeighborsClassifier(n_neighbors=9)\n",
    "voting_dtc = DecisionTreeClassifier(max_depth=5)\n",
    "voting_lrc = LogisticRegression()\n",
    "voting_classifier = VotingClassifier(\n",
    "                     estimators=[('KNN classifier', voting_knn), ('Desicion Tree classifier', voting_dtc),\n",
    "                     ('Logistic Regression', voting_lrc)], voting='hard')\n",
    "voting_classifier.fit(x_train_one_hot_scaled.drop(columns=['Customer ID']), y_train_one_hot_scaled)\n",
    "voting_prediction_test = voting_classifier.predict(x_test_one_hot_scaled.drop(columns=['Customer ID']))\n",
    "voting_prediction_train = voting_classifier.predict(x_train_one_hot_scaled.drop(columns=['Customer ID']))\n",
    "\n",
    "print(\"voting train:\\n\",metrics.classification_report(y_train_one_hot_scaled, voting_prediction_train))\n",
    "print('------------------------------------------')\n",
    "print(\"voting test:\\n\",metrics.classification_report(y_test_one_hot_scaled, voting_prediction_test))"
   ]
  },
  {
   "cell_type": "markdown",
   "metadata": {},
   "source": [
    "Performance metrics:\n",
    "\n",
    "Accuracy = 74%\n",
    "Precision = 74%\n",
    "Recall = 74%"
   ]
  },
  {
   "cell_type": "markdown",
   "metadata": {},
   "source": [
    "The voting method has accptable performance mterics however some of the phase 1 classifiers worked better than the voting ensemble.\n",
    "\n",
    "- KNN: Accuracy 72% Precision = 71% Recall = 72%\n",
    "- Decision Tree: Accuracy = 75% Precision = 75% Recall = 75%\n",
    "- Logistic Regression: Accuracy = 68% Precision = 67% Recall = 68%\n",
    "\n",
    "Since the performance of the voting method is directly effected by the poor performance of the logistic classifier and the accptable performance of KNN classifier along with the good performance of the decision tree it is only logical that the performance of the voting may not be better than all three of the classifiers and the fact that voting does not have as good of a performance may be justifiable."
   ]
  },
  {
   "cell_type": "code",
   "execution_count": null,
   "metadata": {},
   "outputs": [],
   "source": []
  }
 ],
 "metadata": {
  "kernelspec": {
   "display_name": "Python 3",
   "language": "python",
   "name": "python3"
  },
  "language_info": {
   "codemirror_mode": {
    "name": "ipython",
    "version": 3
   },
   "file_extension": ".py",
   "mimetype": "text/x-python",
   "name": "python",
   "nbconvert_exporter": "python",
   "pygments_lexer": "ipython3",
   "version": "3.7.4"
  }
 },
 "nbformat": 4,
 "nbformat_minor": 2
}
