{
 "cells": [
  {
   "cell_type": "markdown",
   "metadata": {},
   "source": [
    "# Project#1 of AI Course of University of Tehran\n",
    "Rasta Tadayon 810196436\n",
    "\n",
    "***\n",
    "<h2 align = 'center'>Informed and Unimfored Search</h2>"
   ]
  },
  {
   "cell_type": "markdown",
   "metadata": {},
   "source": [
    "Main purpose of this project is to use informed and uninformed searches to find the solution for at hand problem. The problem we're facing here is finding the optimal way of getting patients to hospitals using one ambulance.\n",
    "\n",
    "The map is given to us through a text file. Patients are shown as P characters, Hospitals are shown as numbers which indicate the capacity of that hospital, character A represents the ambulance location in the map. # characters represent walls. Something to note is that the ambulance does not pick up the patients, rather it pushes them around in the map to get them to hospital."
   ]
  },
  {
   "cell_type": "code",
   "execution_count": 37,
   "metadata": {},
   "outputs": [],
   "source": [
    "import math\n",
    "import numpy as np\n",
    "import time\n",
    "import heapq\n",
    "import copy\n",
    "from texttable import Texttable # used to print in tabular form"
   ]
  },
  {
   "cell_type": "markdown",
   "metadata": {},
   "source": [
    "### Reading map files"
   ]
  },
  {
   "cell_type": "code",
   "execution_count": 2,
   "metadata": {},
   "outputs": [],
   "source": [
    "f1 = open(\"testcases/test1.txt\", \"r\")\n",
    "mapStr1 = f1.read()\n",
    "f2 = open(\"testcases/test2.txt\", \"r\")\n",
    "mapStr2 = f2.read()\n",
    "f3 = open(\"testcases/test3.txt\", \"r\")\n",
    "mapStr3 = f3.read()"
   ]
  },
  {
   "cell_type": "markdown",
   "metadata": {},
   "source": [
    "We use three map files which are like the following and are given to the program as a text file. The **#** signs represent walls. **P** characters represent the patients in the map, the numbers represent the hospitals or better said, the capacity of the hospital and the **A** character represent the ambulence (rather its coardinates) in the map."
   ]
  },
  {
   "cell_type": "code",
   "execution_count": 8,
   "metadata": {},
   "outputs": [
    {
     "name": "stdout",
     "output_type": "stream",
     "text": [
      "map #1:\n",
      "######\n",
      "#  A #\n",
      "# #P #\n",
      "#    #\n",
      "#P   #\n",
      "#2   #\n",
      "###### \n",
      "\n",
      "-------------\n",
      "\n",
      "map #2:\n",
      "######\n",
      "#   3#\n",
      "# ## #\n",
      "#   P#\n",
      "# PP #\n",
      "#1P A#\n",
      "###### \n",
      "\n",
      "-------------\n",
      "\n",
      "map #3:\n",
      "##########\n",
      "#    3P  #\n",
      "#       A#\n",
      "## #### ##\n",
      "#   P P  #\n",
      "#        #\n",
      "##########\n"
     ]
    }
   ],
   "source": [
    "print \"map #1:\\n\", mapStr1, \"\\n\\n-------------\"\n",
    "print \"\\nmap #2:\\n\", mapStr2, \"\\n\\n-------------\"\n",
    "print \"\\nmap #3:\\n\", mapStr3"
   ]
  },
  {
   "cell_type": "code",
   "execution_count": 9,
   "metadata": {},
   "outputs": [],
   "source": [
    "AMB = 'A'\n",
    "HOSP = 'H'\n",
    "PATN = 'P'"
   ]
  },
  {
   "cell_type": "code",
   "execution_count": 19,
   "metadata": {},
   "outputs": [],
   "source": [
    "def getBaseMap(mapStr):\n",
    "    res = ''\n",
    "    for i in range(len(mapStr)):\n",
    "        if(mapStr[i] != '#' and mapStr[i] != ' ' and mapStr[i] !='\\n'):\n",
    "            res += ' '\n",
    "        else:\n",
    "            res += mapStr[i]\n",
    "    return res\n",
    "\n",
    "baseMap1 = getBaseMap(mapStr1).split('\\n')\n",
    "baseMap2 = getBaseMap(mapStr2).split('\\n')\n",
    "baseMap3 = getBaseMap(mapStr3).split('\\n')\n",
    "map1 = mapStr1.split('\\n')\n",
    "map2 = mapStr2.split('\\n')\n",
    "map3 = mapStr3.split('\\n')"
   ]
  },
  {
   "cell_type": "markdown",
   "metadata": {},
   "source": [
    "Base of all maps are kept as global values to indicate where the static elements are(meaning empty spaces and walls)."
   ]
  },
  {
   "cell_type": "code",
   "execution_count": 20,
   "metadata": {},
   "outputs": [],
   "source": [
    "def getInitLocs(mapStr):\n",
    "    ambLoc = []\n",
    "    patientsLoc = []\n",
    "    hospLocs = dict()\n",
    "    for i in range(len(mapStr)):\n",
    "        for j in range(len(mapStr[0])):\n",
    "            if(mapStr[i][j] == AMB):\n",
    "                ambLoc = [i,j]\n",
    "            if(mapStr[i][j] == PATN):\n",
    "                patientsLoc.append([i,j])\n",
    "            if(mapStr[i][j].isdigit()):\n",
    "                hospLocs[i,j] = int(mapStr[i][j])\n",
    "    return ambLoc, patientsLoc, hospLocs"
   ]
  },
  {
   "cell_type": "markdown",
   "metadata": {},
   "source": [
    "The function above gives the initial placement of elements of the map. Patients are kept in a list and hospitals are kept in a dictionary where the coordinates are mapped to the capacity of that hospital."
   ]
  },
  {
   "cell_type": "code",
   "execution_count": 21,
   "metadata": {},
   "outputs": [],
   "source": [
    "initAmbLoc1, initPatientsLoc1, initHospLoc1 = getInitLocs(map1)\n",
    "initAmbLoc2, initPatientsLoc2, initHospLoc2 = getInitLocs(map2)\n",
    "initAmbLoc3, initPatientsLoc3, initHospLoc3 = getInitLocs(map3)"
   ]
  },
  {
   "cell_type": "markdown",
   "metadata": {},
   "source": [
    "## Uninformed Search"
   ]
  },
  {
   "cell_type": "markdown",
   "metadata": {},
   "source": [
    "For the uninformed searches we consider all possible moves the agent which here is an ambulance can make and search between all of those cases to find the solution. The uninformed searches used in this project are **BFS(Breadth First Search)** and **IDS(Iterative Deepening Search)**. In order to keep the states we have a state class as follows. States are distinguished from one another by the location of ambulance, patients and capacities of hospitals.\n",
    "\n",
    "\n",
    "In order to correctly understand and solve the problem it should be modeled carefully. This project has the following elements and is modeled as will be explained:\n",
    "\n",
    "- __State__: Each state is defined as is differentiated from the other states by the current situation of map and elements inside it (meaning location of ambulance and each patient and capacities of the hospitals)\n",
    "- __Initial state__: Initial state is the first node and the first state, containing the initial positioning of the ambulance and patients and also the initial capacities of the hospitals.\n",
    "- __Goal state__: Goal state is reached when all the patients are in hospitals and since after patients disapear after reaching the hospitals, goal state in other word is reached when there are no more patients in the map.\n",
    "- __Actions__ : Actions are the moves the ambulance can make which can be chosen from the four directions: up, down, right, left. After each action is taken changes happen in the coordinates of different elements of the map which changes the state.\n",
    "\n",
    "The elements explained above are generalizable to the uninformed search algorithms as well."
   ]
  },
  {
   "cell_type": "code",
   "execution_count": 22,
   "metadata": {},
   "outputs": [],
   "source": [
    "class State:\n",
    "    def __init__(self, ambLoc, patntLoc, hospLoc, parent = None):\n",
    "        self.aLoc = ambLoc\n",
    "        self.pLoc = patntLoc\n",
    "        self.hLoc = hospLoc\n",
    "        if (parent == None):\n",
    "            self.path = ''\n",
    "        else:\n",
    "            self.path = parent.path\n",
    "        self.parent = parent\n",
    "    \n",
    "    def getHashed(self):\n",
    "        return str([self.aLoc, self.pLoc, self.hLoc])\n",
    "    \n",
    "    def ifDone(self):\n",
    "        if (len(self.pLoc) == 0):\n",
    "            return True\n",
    "        return False\n",
    "    \n",
    "    def getFeasibleMoves(self, num):\n",
    "        i = self.aLoc[0]\n",
    "        j = self.aLoc[1]\n",
    "        moves = []\n",
    "        if (num == 1):\n",
    "            baseMap = baseMap1\n",
    "        elif(num == 2):\n",
    "            baseMap = baseMap2\n",
    "        elif(num == 3):\n",
    "            baseMap = baseMap3\n",
    "        #up \n",
    "        if(baseMap[i-1][j] != '#'):\n",
    "            if (not([i-1,j] in self.pLoc and ([i-2,j] in self.pLoc or baseMap[i-2][j] == '#'))):\n",
    "                moves.append('u')\n",
    "        #down\n",
    "        if(baseMap[i+1][j] != '#'):\n",
    "            if (not([i+1,j] in self.pLoc and ([i+2,j] in self.pLoc or baseMap[i+2][j] == '#'))):\n",
    "                moves.append('d')\n",
    "        #right\n",
    "        if(baseMap[i][j+1] != '#'):\n",
    "            if (not([i,j+1] in self.pLoc and ([i,j+2] in self.pLoc or baseMap[i][j+2] == '#'))):\n",
    "                moves.append('r')\n",
    "        #left\n",
    "        if(baseMap[i][j-1] != '#'):\n",
    "            if (not([i,j-1] in self.pLoc and ([i,j-2] in self.pLoc or baseMap[i][j-2] == '#'))):\n",
    "                moves.append('l')\n",
    "        return moves\n",
    "    \n",
    "    def moveRight(self):\n",
    "        i = self.aLoc[0]\n",
    "        j = self.aLoc[1]\n",
    "        self.aLoc = [i, j+1]\n",
    "        #if right side is empty ambulance just moves right\n",
    "\n",
    "        #if right side is a Patient but no hospital in front of it\n",
    "        if([i,j+1] in self.pLoc):\n",
    "            if((i,j+2) in self.hLoc):\n",
    "                self.pLoc.remove([i,j+1])\n",
    "                hospCapacity = self.hLoc[(i,j+2)]\n",
    "                hospCapacity -= 1\n",
    "                if(hospCapacity):\n",
    "                    self.hLoc[(i,j+2)] = hospCapacity\n",
    "                else:\n",
    "                    del self.hLoc[(i,j+2)]\n",
    "            else:\n",
    "                self.pLoc.remove([i,j+1])\n",
    "                self.pLoc.append([i,j+2])\n",
    "                self.pLoc.sort()\n",
    "        self.path = self.path + 'r'\n",
    "                \n",
    "    def moveLeft(self):\n",
    "        i = self.aLoc[0]\n",
    "        j = self.aLoc[1]\n",
    "        self.aLoc = [i, j-1]\n",
    "        #if left side is empty ambulance just moves left\n",
    "\n",
    "        #if left side is a Patient but no hospital in front of it\n",
    "        if([i,j-1] in self.pLoc):\n",
    "            if((i,j-2) in self.hLoc):\n",
    "                self.pLoc.remove([i,j-1])\n",
    "                hospCapacity = self.hLoc[(i,j-2)]\n",
    "                hospCapacity -= 1\n",
    "                if(hospCapacity):\n",
    "                    self.hLoc[(i,j-2)] = hospCapacity\n",
    "                else:\n",
    "                    del self.hLoc[(i,j-2)]\n",
    "            else:\n",
    "                self.pLoc.remove([i,j-1])\n",
    "                self.pLoc.append([i,j-2])\n",
    "                self.pLoc.sort()\n",
    "        self.path = self.path + 'l'\n",
    "                \n",
    "    def moveUp(self):\n",
    "        i = self.aLoc[0]\n",
    "        j = self.aLoc[1]\n",
    "        self.aLoc = [i-1, j]\n",
    "        #if left side is empty ambulance just moves left\n",
    "\n",
    "        #if left side is a Patient but no hospital in front of it\n",
    "        if([i-1,j] in self.pLoc):\n",
    "            if((i-2,j) in self.hLoc):\n",
    "                self.pLoc.remove([i-1,j])\n",
    "                hospCapacity = self.hLoc[(i-2,j)]\n",
    "                hospCapacity -= 1\n",
    "                if(hospCapacity):\n",
    "                    self.hLoc[(i-2,j)] = hospCapacity\n",
    "                else:\n",
    "                    del self.hLoc[(i-2,j)]\n",
    "            else:\n",
    "                self.pLoc.remove([i-1,j])\n",
    "                self.pLoc.append([i-2,j])\n",
    "                self.pLoc.sort()\n",
    "        self.path = self.path + 'u'\n",
    "    def moveDown(self):\n",
    "        i = self.aLoc[0]\n",
    "        j = self.aLoc[1]\n",
    "        self.aLoc = [i+1, j]\n",
    "        #if left side is empty ambulance just moves left\n",
    "\n",
    "        #if left side is a Patient but no hospital in front of it\n",
    "        if([i+1,j] in self.pLoc):\n",
    "            if((i+2,j) in self.hLoc):\n",
    "                self.pLoc.remove([i+1,j])\n",
    "                hospCapacity = self.hLoc[(i+2,j)]\n",
    "                hospCapacity -= 1\n",
    "                if(hospCapacity):\n",
    "                    self.hLoc[(i+2,j)] = hospCapacity\n",
    "                else:\n",
    "                    del self.hLoc[(i+2,j)]\n",
    "            else:\n",
    "                self.pLoc.remove([i+1,j])\n",
    "                self.pLoc.append([i+2,j])\n",
    "                self.pLoc.sort()\n",
    "        self.path = self.path + 'd'"
   ]
  },
  {
   "cell_type": "markdown",
   "metadata": {},
   "source": [
    "Each state can return the feasible moves from that state and can move on to those states with the move functions."
   ]
  },
  {
   "cell_type": "markdown",
   "metadata": {},
   "source": [
    "## BFS"
   ]
  },
  {
   "cell_type": "markdown",
   "metadata": {},
   "source": [
    "We are implementing Breadth First Search on a graph which has loops. To avoid infinite loops we need to keep track of the visited nodes. For that reason we have made the state class. The goal is to find the goal state.\n",
    "\n",
    "\n",
    "The **BFS** algorithm itself goes as follows:\n",
    "We have a queue (FIFO) to store the nodes (states) we want to visit next as the frontier and also we have a set of nodes that were visited.\n",
    "\n",
    "- Firstly the initial state is added to the queue.\n",
    "- Then all possible moves from there are added to the frontier on the condition that they were not previously visited.\n",
    "- This sequence continues until either the goal state is reached or all the nodes are visited.\n",
    "\n",
    "**BFS** is an optimal uninformed search algorithm which mean it will return the optimal (least steps required) answer to our problem."
   ]
  },
  {
   "cell_type": "code",
   "execution_count": 28,
   "metadata": {},
   "outputs": [],
   "source": [
    "def bfs(initState,testCaseNum):\n",
    "    queue = []\n",
    "    explored = set()\n",
    "    totalNumOfExploredStates = 0\n",
    "    totalMoves = 0\n",
    "    node = initState\n",
    "    if(node.ifDone()):\n",
    "        return totalMoves, totalNumOfExploredStates+1, node.path, node\n",
    "    else:\n",
    "        hashedState = node.getHashed()\n",
    "        if(hashedState not in explored):\n",
    "            queue.append(node)\n",
    "            explored.add(hashedState)\n",
    "            while queue:\n",
    "                node = queue.pop(0)\n",
    "                totalNumOfExploredStates += 1\n",
    "                moves = node.getFeasibleMoves(testCaseNum)\n",
    "                for move in moves:\n",
    "                    newNode = State(copy.copy(node.aLoc), copy.copy(node.pLoc), copy.copy(node.hLoc), node)\n",
    "                    \n",
    "                    if(move == 'r'):\n",
    "                        newNode.moveRight()\n",
    "                    elif(move == 'l'):\n",
    "                        newNode.moveLeft()\n",
    "                    elif(move == 'u'):\n",
    "                        newNode.moveUp()\n",
    "                    elif(move == 'd'):\n",
    "                        newNode.moveDown()                    \n",
    "                    \n",
    "                    if(newNode.ifDone()):\n",
    "                        return totalMoves, totalNumOfExploredStates, newNode.path, newNode\n",
    "                    if( not (newNode.getHashed() in explored)):\n",
    "                        explored.add(newNode.getHashed())\n",
    "                        queue.append(newNode)"
   ]
  },
  {
   "cell_type": "markdown",
   "metadata": {},
   "source": [
    "In **BFS** we only visit each state once, therefore the total states explored is equal to the total unique satates explored, because only the nodes in the frontier are explored and the nodes are added to the frontier only if they have not been explored before or in other words have not been added to the explored set yet."
   ]
  },
  {
   "cell_type": "markdown",
   "metadata": {},
   "source": [
    "The algorithm is run 3 times for each test case and the mean of the 3 run times is as follows:"
   ]
  },
  {
   "cell_type": "code",
   "execution_count": 29,
   "metadata": {},
   "outputs": [],
   "source": [
    "def runBFS(node, testCaseNum):\n",
    "    duration = 0\n",
    "    for i in range(3):\n",
    "        start = time.time()\n",
    "        totalMoves, totalExplored, path, finishNode = bfs(node, testCaseNum)\n",
    "        end = time.time()\n",
    "        duration += (end - start)\n",
    "    return totalExplored, finishNode, duration/3"
   ]
  },
  {
   "cell_type": "code",
   "execution_count": 30,
   "metadata": {},
   "outputs": [],
   "source": [
    "initNodeBFS1 = State(initAmbLoc1, initPatientsLoc1, initHospLoc1)\n",
    "initNodeBFS2 = State(initAmbLoc2, initPatientsLoc2, initHospLoc2)\n",
    "initNodeBFS3 = State(initAmbLoc3, initPatientsLoc3, initHospLoc3)"
   ]
  },
  {
   "cell_type": "code",
   "execution_count": 31,
   "metadata": {},
   "outputs": [],
   "source": [
    "totalExp1, finishNode1, duration1 = runBFS(initNodeBFS1, 1)\n",
    "totalExp2, finishNode2, duration2 = runBFS(initNodeBFS2, 2)\n",
    "totalExp3, finishNode3, duration3 = runBFS(initNodeBFS3, 3)"
   ]
  },
  {
   "cell_type": "code",
   "execution_count": 40,
   "metadata": {},
   "outputs": [],
   "source": [
    "tableBFS = [['BFS', 'Duration', 'Total Number of Moves','Route', 'Total Explored States'],\n",
    "            ['Testcase#1', duration1, len(finishNode1.path), finishNode1.path, totalExp1],\n",
    "            ['Testcase#2', duration2, len(finishNode2.path), finishNode2.path, totalExp2],\n",
    "            ['Testcase#3', duration3, len(finishNode3.path), finishNode3.path, totalExp3]]\n"
   ]
  },
  {
   "cell_type": "code",
   "execution_count": 41,
   "metadata": {},
   "outputs": [
    {
     "name": "stdout",
     "output_type": "stream",
     "text": [
      "+------------+----------+------------------+-----------------+-----------------+\n",
      "|    BFS     | Duration | Total Number of  |      Route      | Total Explored  |\n",
      "|            |          |      Moves       |                 |     States      |\n",
      "+============+==========+==================+=================+=================+\n",
      "| Testcase#1 | 0.009    | 11               | dddrdlluuld     | 285             |\n",
      "+------------+----------+------------------+-----------------+-----------------+\n",
      "| Testcase#2 | 0.213    | 27               | uuudddllurdruuu | 8710            |\n",
      "|            |          |                  | ulllddrrdruu    |                 |\n",
      "+------------+----------+------------------+-----------------+-----------------+\n",
      "| Testcase#3 | 0.603    | 39               | ulldrdddllurdru | 26149           |\n",
      "|            |          |                  | uurulldrddlllld |                 |\n",
      "|            |          |                  | luuulurrr       |                 |\n",
      "+------------+----------+------------------+-----------------+-----------------+\n"
     ]
    }
   ],
   "source": [
    "t = Texttable()\n",
    "t.add_rows(tableBFS)\n",
    "print(t.draw())"
   ]
  },
  {
   "cell_type": "markdown",
   "metadata": {},
   "source": [
    "The paths for each test case and number of moves are stated above. The duration column specifies the time it took for the algorithm to find the path for the ambulence to take all the patients to the hospitals."
   ]
  },
  {
   "cell_type": "markdown",
   "metadata": {},
   "source": [
    "## IDS"
   ]
  },
  {
   "cell_type": "markdown",
   "metadata": {},
   "source": [
    "**Iterative Deepening Search** is also an uninformed search algorithm. **IDS** actually implements DFS with different depths, meaning it runs DFS with a limit for the depth so basically IDS is doing DFS in a BFS manner. \n",
    "\n",
    "In **IDS** it is possible to see a repeated state but in less depth, therfore a new depth value is also needed to indicate the state of a node, so in the new class created for IDS search we also add a depth attribute as will be shown in the following.\n",
    "\n",
    "The **IDS** algorithm uses a stack (LIFO) to keep track of the explored states. The algorithm is as follows:\n",
    "\n",
    "- In the outer loop we increase the depth of which the dfs will run in and run the dfs with the given depth.\n",
    "- In every iteration the explored set and the stack will get empties (this is the reason why this algorithm may visit already visited nodes.\n",
    "- For the limited DFS:\n",
    "    - Pop the top node from the stack.\n",
    "    - If that node has the depth equal to the depth we are already at its children can not be explored for they have larger depths.\n",
    "    - If not the children are added to the stack and these steps will continue until either the goal node is found or the algorithm ends."
   ]
  },
  {
   "cell_type": "code",
   "execution_count": 42,
   "metadata": {},
   "outputs": [],
   "source": [
    "class idsState( State ):            \n",
    "        def __init__(self, ambLoc, patntLoc, hospLoc, parent = None, nodeDepth = 0): \n",
    "                self.depth = nodeDepth  \n",
    "                State.__init__(self, ambLoc, patntLoc, hospLoc, parent)\n",
    "        def getHashed(self):\n",
    "            return str([self.aLoc, self.pLoc, self.hLoc, self.depth])"
   ]
  },
  {
   "cell_type": "code",
   "execution_count": 47,
   "metadata": {},
   "outputs": [],
   "source": [
    "maxDepth1 = len(baseMap1)*len(baseMap1[0])\n",
    "maxDepth2 = len(baseMap2)*len(baseMap2[0])\n",
    "maxDepth3 = len(baseMap3)*len(baseMap3[0])\n",
    "\n",
    "def ids(initState, testNum):\n",
    "    if(testNum == 1):\n",
    "        maxDepth = maxDepth1\n",
    "    elif(testNum == 2):\n",
    "        maxDepth = maxDepth2\n",
    "    elif(testNum == 3):\n",
    "        maxDepth = maxDepth3\n",
    "    uniqueStates = set()\n",
    "    totalNumOfStates = 0\n",
    "    totalUniqueStates = 1\n",
    "    if(initState.ifDone()):\n",
    "        return totalNumOfStates , totalUniqueStates, node\n",
    "    else:\n",
    "        for i in range(1, maxDepth+1):\n",
    "            stack = []\n",
    "            explored = set()\n",
    "            hashed = initState.getHashed()\n",
    "            if(not(hashed in explored)):\n",
    "                stack.append(initState)\n",
    "                explored.add(hashed)\n",
    "                totalNumOfStates += 1\n",
    "                if(hashed not in uniqueStates):\n",
    "                    uniqueStates.add(hashed)\n",
    "                    totalUniqueStates += 1\n",
    "            while stack:\n",
    "                node = stack.pop()\n",
    "                if(node.ifDone()):\n",
    "                    return totalNumOfStates, totalUniqueStates, node\n",
    "                if(node.depth == i):\n",
    "                    continue\n",
    "                moves = node.getFeasibleMoves(testNum)\n",
    "                for move in moves:\n",
    "                    newNode = idsState(copy.copy(node.aLoc), copy.copy(node.pLoc), copy.copy(node.hLoc), node, (node.depth) + 1)\n",
    "                    if(move == 'r'):\n",
    "                        newNode.moveRight()\n",
    "                    elif(move == 'l'):\n",
    "                        newNode.moveLeft()\n",
    "                    elif(move == 'u'):\n",
    "                        newNode.moveUp()\n",
    "                    elif(move == 'd'):\n",
    "                        newNode.moveDown()\n",
    "                    \n",
    "                    newHashed = newNode.getHashed()\n",
    "                    if(newHashed not in explored):\n",
    "                        explored.add(newHashed)\n",
    "                        stack.append(newNode)\n",
    "                        totalNumOfStates += 1\n",
    "                        if(newHashed not in uniqueStates):\n",
    "                            totalUniqueStates += 1\n",
    "                            uniqueStates.add(newHashed)                    "
   ]
  },
  {
   "cell_type": "code",
   "execution_count": 48,
   "metadata": {},
   "outputs": [],
   "source": [
    "def runIDS(node, testCaseNum):\n",
    "    duration = 0\n",
    "    for i in range(3):\n",
    "        start = time.time()\n",
    "        totalState, totalUnique, finishNode = ids(node, testCaseNum)\n",
    "        end = time.time()\n",
    "        duration += (end - start)\n",
    "    return totalState, totalUnique, finishNode, duration/3"
   ]
  },
  {
   "cell_type": "code",
   "execution_count": 49,
   "metadata": {},
   "outputs": [],
   "source": [
    "initIDSNode1 = idsState(initAmbLoc1,initPatientsLoc1,initHospLoc1, None, 0)\n",
    "initIDSNode2 = idsState(initAmbLoc2,initPatientsLoc2,initHospLoc2, None, 0)\n",
    "initIDSNode3 = idsState(initAmbLoc3,initPatientsLoc3,initHospLoc3, None, 0)"
   ]
  },
  {
   "cell_type": "code",
   "execution_count": 50,
   "metadata": {},
   "outputs": [],
   "source": [
    "totalStat1, totalUnique1, finishNodeIDS1, durationIDS1 = runIDS(initIDSNode1, 1)\n",
    "totalStat2, totalUnique2, finishNodeIDS2, durationIDS2 = runIDS(initIDSNode2, 2)\n",
    "totalStat3, totalUnique3, finishNodeIDS3, durationIDS3 = runIDS(initIDSNode3, 3)\n"
   ]
  },
  {
   "cell_type": "code",
   "execution_count": 52,
   "metadata": {},
   "outputs": [
    {
     "name": "stdout",
     "output_type": "stream",
     "text": [
      "+------------+----------+-------------+-------------+-------------+------------+\n",
      "|    IDS     | Duration |    Total    |    Route    |    Total    |   Total    |\n",
      "|            |          |  Number of  |             |  Explored   |   Unique   |\n",
      "|            |          |    Moves    |             |   States    |  Explored  |\n",
      "|            |          |             |             |             |   States   |\n",
      "+============+==========+=============+=============+=============+============+\n",
      "| Testcase#1 | 0.062    | 11          | dddrdlluuld | 2927        | 954        |\n",
      "+------------+----------+-------------+-------------+-------------+------------+\n",
      "| Testcase#2 | 5.161    | 27          | uuudddllurd | 292824      | 45306      |\n",
      "|            |          |             | ruuuulllddr |             |            |\n",
      "|            |          |             | rdruu       |             |            |\n",
      "+------------+----------+-------------+-------------+-------------+------------+\n",
      "| Testcase#3 | 21.244   | 39          | ulldrdddllu | 1006734     | 141053     |\n",
      "|            |          |             | rdruuurulld |             |            |\n",
      "|            |          |             | rddlllldluu |             |            |\n",
      "|            |          |             | ulurrr      |             |            |\n",
      "+------------+----------+-------------+-------------+-------------+------------+\n"
     ]
    }
   ],
   "source": [
    "tableIDS = [['IDS', 'Duration', 'Total Number of Moves','Route', 'Total Explored States', 'Total Unique Explored States'],\n",
    "            ['Testcase#1', durationIDS1, len(finishNode1.path), finishNode1.path, totalStat1, totalUnique1],\n",
    "            ['Testcase#2', durationIDS2, len(finishNode2.path), finishNode2.path, totalStat2, totalUnique2],\n",
    "            ['Testcase#3', durationIDS3, len(finishNode3.path), finishNode3.path, totalStat3, totalUnique3]]\n",
    "t = Texttable()\n",
    "t.add_rows(tableIDS)\n",
    "print(t.draw())"
   ]
  },
  {
   "cell_type": "markdown",
   "metadata": {},
   "source": [
    "The route for each test case along with total number of states visited and number of unique states visited is stated above."
   ]
  },
  {
   "cell_type": "markdown",
   "metadata": {},
   "source": [
    "**IDS** is also an optimal search algorithm however it took longer than **BFS** to find the solution because it visits nodes more than once(unless solution is in the first depth). IDS is a good algorithm for when the actions that can be taken are a lot."
   ]
  },
  {
   "cell_type": "markdown",
   "metadata": {},
   "source": [
    "## Informed Search"
   ]
  },
  {
   "cell_type": "markdown",
   "metadata": {},
   "source": [
    "As stated before, in uninformed search strategies all of the possible moves are taken into consideration and they all have the same importance and priority. In **Informed Search** however the algorithm is given hints about the desirability of different states and an evaluation function is used to sort nodes in the way to select the most promising node for expantion in the next interation.\n",
    "\n",
    "\n",
    "Informed search strategies are usually faster than uninformed ones because they have an idea of which way they should expand the search however the chioce of heuristics becomes very important in informed searches."
   ]
  },
  {
   "cell_type": "markdown",
   "metadata": {},
   "source": [
    "One of the **informed search** methods is called **A*** which will be used in this project."
   ]
  },
  {
   "cell_type": "markdown",
   "metadata": {},
   "source": [
    "## A* Search Strategy"
   ]
  },
  {
   "cell_type": "markdown",
   "metadata": {},
   "source": [
    "In this search method we are trying to avoid the expansion of paths which are expensive already. To do so we have a heuristic function. Two heuristics were used in this projects. \n",
    "\n",
    "### Fisrt heuristic:\n",
    "\n",
    "- Summation of the minimum manhatan distances from all patients to their nearest hospitals added to the length of the path already traversed."
   ]
  },
  {
   "cell_type": "markdown",
   "metadata": {},
   "source": [
    "### Why this heuristic is admissible:"
   ]
  },
  {
   "cell_type": "markdown",
   "metadata": {},
   "source": [
    "We want to take every patient to the hospitals and preferably to the nearest hospital. An **admissible heuristic** is one that does not overestimate the cost to reach the goal and it's rather optimistic. Here we know that the least amount of cost is when each patient is delivered to its closest hospital however this might not always happen, meaning the ambulance may have to go around the patients and many other things like that. Therefore this heuristic is for each node an optimistic one because it is calculating the summation of manhatan distances (straight line distances)."
   ]
  },
  {
   "cell_type": "markdown",
   "metadata": {},
   "source": [
    "We are running this algorithm of a graph rather than a tree and if we want to not visit states repeatedly in a graph the heuristic has to also be **consistant** in order to give the optimal solution."
   ]
  },
  {
   "cell_type": "markdown",
   "metadata": {},
   "source": [
    "### Why this heuristic is consistant:"
   ]
  },
  {
   "cell_type": "markdown",
   "metadata": {},
   "source": [
    "By defenition we know a heuristic is consistant if the following equation holds:\n",
    "\n",
    "$ cost(A to C) \\geq h(A) - h(C)$\n",
    "\n",
    "Which means if we have statec $C$ after state $A$ the real cost of traversing to state $C$ from state $A$ is larger than the cost implied by the heuristics. Let's check if this equation holds:\n",
    "\n",
    "For each traversal between the nodes the cost is equal to one so we need to check for every possible move the difference of the heuristics is less than or equal to one:\n",
    "\n",
    "- Ambulance moves without moving any patients:\n",
    "    In this case the heusitics for state C and A are equal therfore the difference is equal to zero and the quation holds.\n",
    "    \n",
    "    \n",
    "- Ambulance moves a patient closer to a hospital:\n",
    "    In this case the the patient moves one step closer so the value will also be less than or equal to one.\n",
    "    \n",
    "    \n",
    "- Ambulance moves a patient further away from the hospital:\n",
    "    In this case the heuristic of the later state is larger so the value will become negative so the equation holds.\n",
    "    "
   ]
  },
  {
   "cell_type": "markdown",
   "metadata": {},
   "source": [
    "A new class is implemented which has the heuristic function and values:"
   ]
  },
  {
   "cell_type": "code",
   "execution_count": 53,
   "metadata": {},
   "outputs": [],
   "source": [
    "class informedState(State):\n",
    "    def __init__(self, ambLoc, patntLoc, hospLoc, heuristicNum, parent = None):\n",
    "        State.__init__(self, ambLoc, patntLoc, hospLoc, parent)\n",
    "        self.h = heuristicNum\n",
    "        if(heuristicNum == 1):\n",
    "            self.heuristicVal = self.calcH1()\n",
    "        elif(heuristicNum == 2):\n",
    "            self.heuristicVal = self.calcH2()\n",
    "    \n",
    "    def calcH1(self):\n",
    "        manhatanDist = 0\n",
    "        for patient in self.pLoc:\n",
    "            px = patient[0]\n",
    "            py = patient[1]\n",
    "            dist = []\n",
    "            for hosp in self.hLoc:\n",
    "                hx = hosp[0]\n",
    "                hy = hosp[1]\n",
    "                dist.append(abs(px-hx)+abs(py-hy))\n",
    "            manhatanDist += min(dist) \n",
    "        return manhatanDist + len(self.path)\n",
    "    \n",
    "    def calcH2(self):\n",
    "        manhatanDist = 0\n",
    "        ax = self.aLoc[0]\n",
    "        ay = self.aLoc[1]\n",
    "        for patient in self.pLoc:\n",
    "            px = patient[0]\n",
    "            py = patient[1]\n",
    "            dist = []\n",
    "            for hosp in self.hLoc:\n",
    "                hx = hosp[0]\n",
    "                hy = hosp[1]\n",
    "                dist.append(abs(px-hx)+abs(py-hy))\n",
    "            manhatanDist += (min(dist) + abs(ax-px) + abs(ay-py))+len(self.path)\n",
    "        return manhatanDist\n",
    "    \n",
    "    def __lt__(self, other):\n",
    "         return (self.heuristicVal <= other.heuristicVal)"
   ]
  },
  {
   "cell_type": "code",
   "execution_count": 54,
   "metadata": {},
   "outputs": [],
   "source": [
    "def returnStateBasedOnHash(li, hashedVal):\n",
    "    for item in li:\n",
    "        if (item.getHashed() == hashedVal):\n",
    "            return item\n",
    "    return None"
   ]
  },
  {
   "cell_type": "markdown",
   "metadata": {},
   "source": [
    "The **A*** search algorithm is very similar to **BFS** with the difference that a priority queue or a min heap is used to keep the states which we want to explore in the next iterations, meaning the heap keeps the nodes with smaller heurisitic values in a higher proirity. Just like the **BFS** algorithm this one also keeps a set of visited node which won't be visited anymore in the next iterations."
   ]
  },
  {
   "cell_type": "code",
   "execution_count": 55,
   "metadata": {},
   "outputs": [],
   "source": [
    "def aStarSearch(initState, hNum, testNum):\n",
    "    meanHeap = []\n",
    "    visitedStates = set()\n",
    "    totalNumOfVisitedStates = 0\n",
    "    totalMoves = 0\n",
    "    if(initState.ifDone()):\n",
    "        return totalNumOfVisitedStates+1, initState\n",
    "    else:\n",
    "        hashedState = initState.getHashed()\n",
    "        if(hashedState not in visitedStates):\n",
    "            heapq.heappush(meanHeap, initState)\n",
    "            visitedStates.add(hashedState)\n",
    "            while meanHeap:\n",
    "                currState = heapq.heappop(meanHeap)\n",
    "                totalNumOfVisitedStates += 1\n",
    "                moves = currState.getFeasibleMoves(testNum)\n",
    "                for move in moves:\n",
    "                    newState = informedState(copy.copy(currState.aLoc), copy.copy(currState.pLoc), copy.copy(currState.hLoc), hNum, currState)\n",
    "                    \n",
    "                    if(move == 'r'):\n",
    "                        newState.moveRight()\n",
    "                    elif(move == 'l'):\n",
    "                        newState.moveLeft()\n",
    "                    elif(move == 'u'):\n",
    "                        newState.moveUp()\n",
    "                    elif(move == 'd'):\n",
    "                        newState.moveDown()                    \n",
    "                    \n",
    "                    if(newState.ifDone()):\n",
    "                        return totalNumOfVisitedStates+1, newState\n",
    "                    if(hNum == 1): newState.heuristicVal = newState.calcH1() \n",
    "                    elif(hNum == 2): newState.heuristicVal = newState.calcH2()\n",
    "                    if( not (newState.getHashed() in visitedStates)):\n",
    "                        visitedStates.add(newState.getHashed())\n",
    "                        heapq.heappush(meanHeap, newState)"
   ]
  },
  {
   "cell_type": "code",
   "execution_count": 56,
   "metadata": {},
   "outputs": [],
   "source": [
    "def runAStar(node, testCaseNum, hNum):\n",
    "    duration = 0\n",
    "    for i in range(3):\n",
    "        start = time.time()\n",
    "        totalState, finishNode = aStarSearch(node, hNum, testCaseNum)\n",
    "        end = time.time()\n",
    "        duration += (end - start)\n",
    "    return totalState, finishNode, duration/3"
   ]
  },
  {
   "cell_type": "code",
   "execution_count": 57,
   "metadata": {},
   "outputs": [],
   "source": [
    "initAStarNode1 = informedState(initAmbLoc1,initPatientsLoc1,initHospLoc1, 1)\n",
    "initAStarNode2 = informedState(initAmbLoc2,initPatientsLoc2,initHospLoc2, 1)\n",
    "initAStarNode3 = informedState(initAmbLoc3,initPatientsLoc3,initHospLoc3, 1) "
   ]
  },
  {
   "cell_type": "code",
   "execution_count": 58,
   "metadata": {},
   "outputs": [],
   "source": [
    "totalStatAStar1, finishNodeAStar1, durationAStar1 = runAStar(initAStarNode1, 1, 1)\n",
    "totalStatAStar2, finishNodeAStar2, durationAStar2 = runAStar(initAStarNode2, 2, 1)\n",
    "totalStatAStar3, finishNodeAStar3, durationAStar3 = runAStar(initAStarNode3, 3, 1)"
   ]
  },
  {
   "cell_type": "code",
   "execution_count": 62,
   "metadata": {},
   "outputs": [
    {
     "name": "stdout",
     "output_type": "stream",
     "text": [
      "+----------------+----------+----------------+----------------+----------------+\n",
      "|      A* -      | Duration |  Total Number  |     Route      | Total Explored |\n",
      "|  Heuristic#1   |          |    of Moves    |                |     States     |\n",
      "+================+==========+================+================+================+\n",
      "| Testcase#1     | 0.007    | 11             | dddrdlluuld    | 116            |\n",
      "+----------------+----------+----------------+----------------+----------------+\n",
      "| Testcase#2     | 0.191    | 27             | uuudddllurdruu | 3770           |\n",
      "|                |          |                | udldllurrdruu  |                |\n",
      "+----------------+----------+----------------+----------------+----------------+\n",
      "| Testcase#3     | 0.419    | 39             | lulrddddllurdr | 10101          |\n",
      "|                |          |                | uuurulldrddlll |                |\n",
      "|                |          |                | ldluuulurrr    |                |\n",
      "+----------------+----------+----------------+----------------+----------------+\n"
     ]
    }
   ],
   "source": [
    "tableAStar = [['A* - Heuristic#1', 'Duration', 'Total Number of Moves','Route', 'Total Explored States'],\n",
    "            ['Testcase#1', durationAStar1, len(finishNodeAStar1.path), finishNodeAStar1.path, totalStatAStar1],\n",
    "            ['Testcase#2', durationAStar2, len(finishNodeAStar2.path), finishNodeAStar2.path, totalStatAStar2],\n",
    "            ['Testcase#3', durationAStar3, len(finishNodeAStar3.path), finishNodeAStar3.path, totalStatAStar3]]\n",
    "t = Texttable()\n",
    "t.add_rows(tableAStar)\n",
    "print(t.draw())"
   ]
  },
  {
   "cell_type": "markdown",
   "metadata": {},
   "source": [
    "As mentioned before since this algorithm is similar to BFS as neither of them visits states more than once therefore only one column represents the number of explores states since the number of explored states is equala to the total unique explored states."
   ]
  },
  {
   "cell_type": "markdown",
   "metadata": {},
   "source": [
    " ### Second heuristic:\n",
    " - The secon heuristic consists of the summation of minimum distance of each patient from the closest hospital added with the manhatan distance between the ambulance and patients in each state\n",
    " \n",
    " This heuristic is also both admissible and consistant."
   ]
  },
  {
   "cell_type": "markdown",
   "metadata": {},
   "source": [
    "### Why this heuristic is admissible:"
   ]
  },
  {
   "cell_type": "markdown",
   "metadata": {},
   "source": [
    "This heuristic adds the manhatan distance between the ambulance and patients with the manhatan distance of each patient from the closest hospital to it. It is obvious that in order to reach the goal state the ambulance must get to each patient and take them to the hospital which means in the best case the ambulance must traverse through the manhatan distance route of patients and take them throught the manhatan distance route to the hospitals. It can be observed that these route may not be available, therefore our heuristic is definitely less than or equal to the cost and is optimistic in each state. "
   ]
  },
  {
   "cell_type": "code",
   "execution_count": 60,
   "metadata": {},
   "outputs": [],
   "source": [
    "totalStatAStar1h2, finishNodeAStar1h2, durationAStar1h2 = runAStar(initAStarNode1, 1, 2)\n",
    "totalStatAStar2h2, finishNodeAStar2h2, durationAStar2h2 = runAStar(initAStarNode2, 2, 2)\n",
    "totalStatAStar3h2, finishNodeAStar3h2, durationAStar3h2 = runAStar(initAStarNode3, 3, 2)"
   ]
  },
  {
   "cell_type": "code",
   "execution_count": 63,
   "metadata": {},
   "outputs": [
    {
     "name": "stdout",
     "output_type": "stream",
     "text": [
      "+----------------+----------+----------------+----------------+----------------+\n",
      "|      A* -      | Duration |  Total Number  |     Route      | Total Explored |\n",
      "|  Heuristic#2   |          |    of Moves    |                |     States     |\n",
      "+================+==========+================+================+================+\n",
      "| Testcase#1     | 0.005    | 13             | ddlldrurdrdll  | 38             |\n",
      "+----------------+----------+----------------+----------------+----------------+\n",
      "| Testcase#2     | 0.008    | 27             | uuudddllurdruu | 157            |\n",
      "|                |          |                | uulllddrrdruu  |                |\n",
      "+----------------+----------+----------------+----------------+----------------+\n",
      "| Testcase#3     | 0.019    | 39             | luldrdddllurdr | 393            |\n",
      "|                |          |                | uuurulldrddlll |                |\n",
      "|                |          |                | ldluuulurrr    |                |\n",
      "+----------------+----------+----------------+----------------+----------------+\n"
     ]
    }
   ],
   "source": [
    "tableAStar2 = [['A* - Heuristic#2', 'Duration', 'Total Number of Moves','Route', 'Total Explored States'],\n",
    "            ['Testcase#1', durationAStar1h2, len(finishNodeAStar1h2.path), finishNodeAStar1h2.path, totalStatAStar1h2],\n",
    "            ['Testcase#2', durationAStar2h2, len(finishNodeAStar2h2.path), finishNodeAStar2h2.path, totalStatAStar2h2],\n",
    "            ['Testcase#3', durationAStar3h2, len(finishNodeAStar3h2.path), finishNodeAStar3h2.path, totalStatAStar3h2]]\n",
    "t = Texttable()\n",
    "t.add_rows(tableAStar2)\n",
    "print(t.draw())"
   ]
  },
  {
   "cell_type": "markdown",
   "metadata": {},
   "source": [
    "\n",
    "\n",
    "\n",
    "For both A* searches the heuristics are as said before however the rankings of the priority queue are based on the evaluation function which mean by the value of the heuristic function added with the $g(n)$ function. In this project the $g(n)$ function is considered simply the route passed until current state:"
   ]
  },
  {
   "cell_type": "markdown",
   "metadata": {},
   "source": [
    "## Table of information:"
   ]
  },
  {
   "cell_type": "code",
   "execution_count": 67,
   "metadata": {},
   "outputs": [],
   "source": [
    "def tableOfInformation(information):\n",
    "    testNumber = information['testNumber']\n",
    "    routeLengths = information['routeLengths']\n",
    "    totalStates = information['totalStates']\n",
    "    uniqueStates = information['uniqueStates'] \n",
    "    durations = information['durations']\n",
    "    table = [['Testcase#'+str(testNumber), 'Route Length', 'Total Visited States', 'Total Unique Visited States', 'Duration'],\n",
    "             ['BFS',routeLengths[0], totalStates[0], uniqueStates[0], durations[0]],\n",
    "             ['IDS',routeLengths[1], totalStates[1], uniqueStates[1], durations[1]],\n",
    "             ['A*-h1',routeLengths[2], totalStates[2], uniqueStates[2], durations[2]],\n",
    "             ['A*-h2',routeLengths[3], totalStates[3], uniqueStates[3], durations[3]]\n",
    "            ]\n",
    "    t = Texttable()\n",
    "    t.add_rows(tableAStar2)\n",
    "    print(t.draw())"
   ]
  },
  {
   "cell_type": "code",
   "execution_count": null,
   "metadata": {},
   "outputs": [],
   "source": [
    "testCase1Info = {'testNumber' : 1}"
   ]
  },
  {
   "cell_type": "code",
   "execution_count": 271,
   "metadata": {},
   "outputs": [
    {
     "name": "stdout",
     "output_type": "stream",
     "text": [
      "First test case information:\n",
      " BFS:    route length : 11 , total nodes visited : 285 , total unique visited nodes : 285 , execution time : 0.010305325190226236\n",
      " IDS:    route length : 11 , total nodes visited : 2927, total unique visited nodes : 954 , execution time : 0.04787087440490723\n",
      " A* h1:  route length : 11 , total nodes visited : 116, total unique visited nodes: 116, execution time : 0.008270581563313803\n",
      " A* h2:  route length : 13 , total nodes visited : 38, total unique visited nodes: 38, execution time : 0.0026597976684570312\n",
      "\n"
     ]
    }
   ],
   "source": [
    "print(f'First test case information:\\n BFS:    route length : {len(finishNode1.path)} , total nodes visited : {totalExp1} , total unique visited nodes : {totalExp1} , execution time : {duration1}\\n IDS:    route length : {len(finishNodeIDS1.path)} , total nodes visited : {totalStat1}, total unique visited nodes : {totalUnique1} , execution time : {durationIDS1}\\n A* h1:  route length : {len(finishNodeAStar1.path)} , total nodes visited : {totalStatAStar1}, total unique visited nodes: {totalStatAStar1}, execution time : {durationAStar1}\\n A* h2:  route length : {len(finishNodeAStar1h2.path)} , total nodes visited : {totalStatAStar1h2}, total unique visited nodes: {totalStatAStar1h2}, execution time : {durationAStar1h2}\\n')"
   ]
  },
  {
   "cell_type": "code",
   "execution_count": 277,
   "metadata": {},
   "outputs": [
    {
     "name": "stdout",
     "output_type": "stream",
     "text": [
      "Second test case information:\n",
      " BFS:    route length : 27 , total nodes visited : 8710 , total unique visited nodes : 8710 , execution time : 0.28191224733988446\n",
      " IDS:    route length : 27 , total nodes visited : 292824, total unique visited nodes : 45306 , execution time : 6.101008176803589\n",
      " A* h1:  route length : 27 , total nodes visited : 3770, total unique visited nodes: 3770, execution time : 0.4568038781483968\n",
      " A* h2:  route length : 27 , total nodes visited : 157, total unique visited nodes: 157, execution time : 0.013629833857218424\n",
      "\n"
     ]
    }
   ],
   "source": [
    "print(f'Second test case information:\\n BFS:    route length : {len(finishNode2.path)} , total nodes visited : {totalExp2} , total unique visited nodes : {totalExp2} , execution time : {duration2}\\n IDS:    route length : {len(finishNodeIDS2.path)} , total nodes visited : {totalStat2}, total unique visited nodes : {totalUnique2} , execution time : {durationIDS2}\\n A* h1:  route length : {len(finishNodeAStar2.path)} , total nodes visited : {totalStatAStar2}, total unique visited nodes: {totalStatAStar2}, execution time : {durationAStar2}\\n A* h2:  route length : {len(finishNodeAStar2h2.path)} , total nodes visited : {totalStatAStar2h2}, total unique visited nodes: {totalStatAStar2h2}, execution time : {durationAStar2h2}\\n')"
   ]
  },
  {
   "cell_type": "code",
   "execution_count": 278,
   "metadata": {},
   "outputs": [
    {
     "name": "stdout",
     "output_type": "stream",
     "text": [
      "Third test case information:\n",
      " BFS:    route length : 39 , total nodes visited : 26149 , total unique visited nodes : 26149 , execution time : 0.8361042340596517\n",
      " IDS:    route length : 39 , total nodes visited : 1006734, total unique visited nodes : 141053 , execution time : 29.78260024388631\n",
      " A* h1:  route length : 39 , total nodes visited : 10101, total unique visited nodes: 10101, execution time : 1.0528231461842854\n",
      " A* h2:  route length : 39 , total nodes visited : 393, total unique visited nodes: 393, execution time : 0.03690107663472494\n",
      "\n"
     ]
    }
   ],
   "source": [
    "print(f'Third test case information:\\n BFS:    route length : {len(finishNode3.path)} , total nodes visited : {totalExp3} , total unique visited nodes : {totalExp3} , execution time : {duration3}\\n IDS:    route length : {len(finishNodeIDS3.path)} , total nodes visited : {totalStat3}, total unique visited nodes : {totalUnique3} , execution time : {durationIDS3}\\n A* h1:  route length : {len(finishNodeAStar3.path)} , total nodes visited : {totalStatAStar3}, total unique visited nodes: {totalStatAStar3}, execution time : {durationAStar3}\\n A* h2:  route length : {len(finishNodeAStar3h2.path)} , total nodes visited : {totalStatAStar3h2}, total unique visited nodes: {totalStatAStar3h2}, execution time : {durationAStar3h2}\\n')"
   ]
  }
 ],
 "metadata": {
  "kernelspec": {
   "display_name": "Python 2",
   "language": "python",
   "name": "python2"
  },
  "language_info": {
   "codemirror_mode": {
    "name": "ipython",
    "version": 2
   },
   "file_extension": ".py",
   "mimetype": "text/x-python",
   "name": "python",
   "nbconvert_exporter": "python",
   "pygments_lexer": "ipython2",
   "version": "2.7.17"
  }
 },
 "nbformat": 4,
 "nbformat_minor": 2
}
